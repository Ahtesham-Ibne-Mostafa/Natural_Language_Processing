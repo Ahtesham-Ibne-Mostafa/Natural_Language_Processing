{
  "metadata": {
    "kernelspec": {
      "language": "python",
      "display_name": "Python 3",
      "name": "python3"
    },
    "language_info": {
      "name": "python",
      "version": "3.11.11",
      "mimetype": "text/x-python",
      "codemirror_mode": {
        "name": "ipython",
        "version": 3
      },
      "pygments_lexer": "ipython3",
      "nbconvert_exporter": "python",
      "file_extension": ".py"
    },
    "kaggle": {
      "accelerator": "nvidiaTeslaT4",
      "dataSources": [
        {
          "sourceId": 11760910,
          "sourceType": "datasetVersion",
          "datasetId": 7383290
        }
      ],
      "dockerImageVersionId": 31012,
      "isInternetEnabled": true,
      "language": "python",
      "sourceType": "notebook",
      "isGpuEnabled": true
    },
    "colab": {
      "name": "Disease_Prediction_from_ehr.ipynb",
      "provenance": [],
      "include_colab_link": true
    }
  },
  "nbformat_minor": 0,
  "nbformat": 4,
  "cells": [
    {
      "cell_type": "markdown",
      "metadata": {
        "id": "view-in-github",
        "colab_type": "text"
      },
      "source": [
        "<a href=\"https://colab.research.google.com/github/Ahtesham-Ibne-Mostafa/Natural_Language_Processing/blob/main/Disease_Prediction_from_ehr.ipynb\" target=\"_parent\"><img src=\"https://colab.research.google.com/assets/colab-badge.svg\" alt=\"Open In Colab\"/></a>"
      ]
    },
    {
      "source": [
        "# IMPORTANT: SOME KAGGLE DATA SOURCES ARE PRIVATE\n",
        "# RUN THIS CELL IN ORDER TO IMPORT YOUR KAGGLE DATA SOURCES.\n",
        "import kagglehub\n",
        "kagglehub.login()\n"
      ],
      "metadata": {
        "id": "2NuTO62XGObd"
      },
      "cell_type": "code",
      "outputs": [],
      "execution_count": null
    },
    {
      "source": [
        "# IMPORTANT: RUN THIS CELL IN ORDER TO IMPORT YOUR KAGGLE DATA SOURCES,\n",
        "# THEN FEEL FREE TO DELETE THIS CELL.\n",
        "# NOTE: THIS NOTEBOOK ENVIRONMENT DIFFERS FROM KAGGLE'S PYTHON\n",
        "# ENVIRONMENT SO THERE MAY BE MISSING LIBRARIES USED BY YOUR\n",
        "# NOTEBOOK.\n",
        "\n",
        "ahteshamibnemostafa_mimic_iv_merged_path = kagglehub.dataset_download('ahteshamibnemostafa/mimic-iv-merged')\n",
        "\n",
        "print('Data source import complete.')\n"
      ],
      "metadata": {
        "id": "UIfl9CQSGObg"
      },
      "cell_type": "code",
      "outputs": [],
      "execution_count": null
    },
    {
      "cell_type": "code",
      "source": [
        "!nvidia-smi\n"
      ],
      "metadata": {
        "trusted": true,
        "execution": {
          "iopub.status.busy": "2025-06-11T23:21:30.619525Z",
          "iopub.execute_input": "2025-06-11T23:21:30.619801Z",
          "iopub.status.idle": "2025-06-11T23:21:30.854622Z",
          "shell.execute_reply.started": "2025-06-11T23:21:30.619775Z",
          "shell.execute_reply": "2025-06-11T23:21:30.853797Z"
        },
        "id": "glx0Z36iGObj",
        "outputId": "3ca04551-dd63-45de-97c9-c4a053963e29"
      },
      "outputs": [
        {
          "name": "stdout",
          "text": "Wed Jun 11 23:21:30 2025       \n+-----------------------------------------------------------------------------------------+\n| NVIDIA-SMI 560.35.03              Driver Version: 560.35.03      CUDA Version: 12.6     |\n|-----------------------------------------+------------------------+----------------------+\n| GPU  Name                 Persistence-M | Bus-Id          Disp.A | Volatile Uncorr. ECC |\n| Fan  Temp   Perf          Pwr:Usage/Cap |           Memory-Usage | GPU-Util  Compute M. |\n|                                         |                        |               MIG M. |\n|=========================================+========================+======================|\n|   0  Tesla T4                       Off |   00000000:00:04.0 Off |                    0 |\n| N/A   37C    P8              9W /   70W |       1MiB /  15360MiB |      0%      Default |\n|                                         |                        |                  N/A |\n+-----------------------------------------+------------------------+----------------------+\n|   1  Tesla T4                       Off |   00000000:00:05.0 Off |                    0 |\n| N/A   38C    P8              9W /   70W |       1MiB /  15360MiB |      0%      Default |\n|                                         |                        |                  N/A |\n+-----------------------------------------+------------------------+----------------------+\n                                                                                         \n+-----------------------------------------------------------------------------------------+\n| Processes:                                                                              |\n|  GPU   GI   CI        PID   Type   Process name                              GPU Memory |\n|        ID   ID                                                               Usage      |\n|=========================================================================================|\n|  No running processes found                                                             |\n+-----------------------------------------------------------------------------------------+\n",
          "output_type": "stream"
        }
      ],
      "execution_count": null
    },
    {
      "cell_type": "code",
      "source": [
        "# This Python 3 environment comes with many helpful analytics libraries installed\n",
        "# It is defined by the kaggle/python Docker image: https://github.com/kaggle/docker-python\n",
        "# For example, here's several helpful packages to load\n",
        "\n",
        "import numpy as np # linear algebra\n",
        "import pandas as pd # data processing, CSV file I/O (e.g. pd.read_csv)\n",
        "\n",
        "# Input data files are available in the read-only \"../input/\" directory\n",
        "# For example, running this (by clicking run or pressing Shift+Enter) will list all files under the input directo           c  tttttttt\n",
        "\n",
        "# You can write up to 20GB to the current directory (/kaggle/working/) that gets preserved as output when you create a version using \"Save & Run All\"\n",
        "# You can also write temporary files to /kaggle/temp/, but they won't be saved outside of the current session\n",
        "\n",
        "# Install dependencies as needed:\n",
        "# pip install kagglehub[pandas-datasets]\n",
        "import kagglehub\n",
        "from kagglehub import KaggleDatasetAdapter\n",
        "\n",
        "# Set the path to the file you'd like to load\n",
        "file_path = \"/kaggle/input/mimic-iv-merged/processed_dataset.csv\"\n",
        "\n",
        "# Load the latest version\n",
        "df = pd.read_csv(file_path)\n",
        "  # Provide any additional arguments like\n",
        "  # sql_query or pandas_kwargs. See the\n",
        "  # documenation for more information:\n",
        "  # https://github.com/Kaggle/kagglehub/blob/main/README.md#kaggledatasetadapterpandas"
      ],
      "metadata": {
        "_uuid": "8f2839f25d086af736a60e9eeb907d3b93b6e0e5",
        "_cell_guid": "b1076dfc-b9ad-4769-8c92-a6c4dae69d19",
        "trusted": true,
        "execution": {
          "iopub.status.busy": "2025-06-11T23:21:30.855892Z",
          "iopub.execute_input": "2025-06-11T23:21:30.856227Z",
          "iopub.status.idle": "2025-06-11T23:22:35.694835Z",
          "shell.execute_reply.started": "2025-06-11T23:21:30.856188Z",
          "shell.execute_reply": "2025-06-11T23:22:35.693983Z"
        },
        "id": "bRr3kjlZGObm"
      },
      "outputs": [],
      "execution_count": null
    },
    {
      "cell_type": "code",
      "source": [
        "df.head()"
      ],
      "metadata": {
        "trusted": true,
        "execution": {
          "iopub.status.busy": "2025-06-11T23:22:35.696841Z",
          "iopub.execute_input": "2025-06-11T23:22:35.697134Z",
          "iopub.status.idle": "2025-06-11T23:22:35.732664Z",
          "shell.execute_reply.started": "2025-06-11T23:22:35.697115Z",
          "shell.execute_reply": "2025-06-11T23:22:35.731944Z"
        },
        "id": "c77pIkF2GObn",
        "outputId": "a5157498-3018-4cb2-b475-e96ea53ae228"
      },
      "outputs": [
        {
          "execution_count": 3,
          "output_type": "execute_result",
          "data": {
            "text/plain": "   subject_id gender  anchor_age  anchor_year anchor_year_group         dod  \\\n0    10000032      F          52         2180       2014 - 2016  2180-09-09   \n1    10000032      F          52         2180       2014 - 2016  2180-09-09   \n2    10000117      F          48         2174       2008 - 2010         NaN   \n3    10000117      F          48         2174       2008 - 2010         NaN   \n4    10000248      M          34         2192       2014 - 2016         NaN   \n\n          note_id                                              input  \\\n0  10000032-DS-21  <SEX> F <SERVICE> MEDICINE <ALLERGIES> No Know...   \n1  10000032-DS-22  <SEX> F <SERVICE> MEDICINE <ALLERGIES> Percoce...   \n2  10000117-DS-21  <SEX> F <SERVICE> MEDICINE <ALLERGIES> omepraz...   \n3  10000117-DS-22  <SEX> F <SERVICE> ORTHOPAEDICS <ALLERGIES> ome...   \n4  10000248-DS-10  <SEX> M <SERVICE> MEDICINE <ALLERGIES> No Know...   \n\n                                              target  input_tokens  \\\n0  ___ HCV cirrhosis c/b ascites, hiv on ART, h/o...          1946   \n1  ___ with HIV on HAART, HCV cirrhosis with asci...          2183   \n2  Ms. ___ is a ___ with history of GERD who pres...          1060   \n3  The patient presented to the emergency departm...          1195   \n4  Mr. ___ is a ___ with history of mild FVIII de...          1961   \n\n   target_tokens   hadm_id note_type  note_seq            charttime  \\\n0            231  22595853        DS        21  2180-05-07 00:00:00   \n1            810  22841357        DS        22  2180-06-27 00:00:00   \n2            172  22927623        DS        21  2181-11-15 00:00:00   \n3            330  27988844        DS        22  2183-09-21 00:00:00   \n4            230  20600184        DS        10  2192-11-30 00:00:00   \n\n             storetime  \n0  2180-05-09 15:26:00  \n1  2180-07-01 10:15:00  \n2  2181-11-15 15:04:00  \n3  2183-09-29 16:23:00  \n4  2192-11-30 19:49:00  ",
            "text/html": "<div>\n<style scoped>\n    .dataframe tbody tr th:only-of-type {\n        vertical-align: middle;\n    }\n\n    .dataframe tbody tr th {\n        vertical-align: top;\n    }\n\n    .dataframe thead th {\n        text-align: right;\n    }\n</style>\n<table border=\"1\" class=\"dataframe\">\n  <thead>\n    <tr style=\"text-align: right;\">\n      <th></th>\n      <th>subject_id</th>\n      <th>gender</th>\n      <th>anchor_age</th>\n      <th>anchor_year</th>\n      <th>anchor_year_group</th>\n      <th>dod</th>\n      <th>note_id</th>\n      <th>input</th>\n      <th>target</th>\n      <th>input_tokens</th>\n      <th>target_tokens</th>\n      <th>hadm_id</th>\n      <th>note_type</th>\n      <th>note_seq</th>\n      <th>charttime</th>\n      <th>storetime</th>\n    </tr>\n  </thead>\n  <tbody>\n    <tr>\n      <th>0</th>\n      <td>10000032</td>\n      <td>F</td>\n      <td>52</td>\n      <td>2180</td>\n      <td>2014 - 2016</td>\n      <td>2180-09-09</td>\n      <td>10000032-DS-21</td>\n      <td>&lt;SEX&gt; F &lt;SERVICE&gt; MEDICINE &lt;ALLERGIES&gt; No Know...</td>\n      <td>___ HCV cirrhosis c/b ascites, hiv on ART, h/o...</td>\n      <td>1946</td>\n      <td>231</td>\n      <td>22595853</td>\n      <td>DS</td>\n      <td>21</td>\n      <td>2180-05-07 00:00:00</td>\n      <td>2180-05-09 15:26:00</td>\n    </tr>\n    <tr>\n      <th>1</th>\n      <td>10000032</td>\n      <td>F</td>\n      <td>52</td>\n      <td>2180</td>\n      <td>2014 - 2016</td>\n      <td>2180-09-09</td>\n      <td>10000032-DS-22</td>\n      <td>&lt;SEX&gt; F &lt;SERVICE&gt; MEDICINE &lt;ALLERGIES&gt; Percoce...</td>\n      <td>___ with HIV on HAART, HCV cirrhosis with asci...</td>\n      <td>2183</td>\n      <td>810</td>\n      <td>22841357</td>\n      <td>DS</td>\n      <td>22</td>\n      <td>2180-06-27 00:00:00</td>\n      <td>2180-07-01 10:15:00</td>\n    </tr>\n    <tr>\n      <th>2</th>\n      <td>10000117</td>\n      <td>F</td>\n      <td>48</td>\n      <td>2174</td>\n      <td>2008 - 2010</td>\n      <td>NaN</td>\n      <td>10000117-DS-21</td>\n      <td>&lt;SEX&gt; F &lt;SERVICE&gt; MEDICINE &lt;ALLERGIES&gt; omepraz...</td>\n      <td>Ms. ___ is a ___ with history of GERD who pres...</td>\n      <td>1060</td>\n      <td>172</td>\n      <td>22927623</td>\n      <td>DS</td>\n      <td>21</td>\n      <td>2181-11-15 00:00:00</td>\n      <td>2181-11-15 15:04:00</td>\n    </tr>\n    <tr>\n      <th>3</th>\n      <td>10000117</td>\n      <td>F</td>\n      <td>48</td>\n      <td>2174</td>\n      <td>2008 - 2010</td>\n      <td>NaN</td>\n      <td>10000117-DS-22</td>\n      <td>&lt;SEX&gt; F &lt;SERVICE&gt; ORTHOPAEDICS &lt;ALLERGIES&gt; ome...</td>\n      <td>The patient presented to the emergency departm...</td>\n      <td>1195</td>\n      <td>330</td>\n      <td>27988844</td>\n      <td>DS</td>\n      <td>22</td>\n      <td>2183-09-21 00:00:00</td>\n      <td>2183-09-29 16:23:00</td>\n    </tr>\n    <tr>\n      <th>4</th>\n      <td>10000248</td>\n      <td>M</td>\n      <td>34</td>\n      <td>2192</td>\n      <td>2014 - 2016</td>\n      <td>NaN</td>\n      <td>10000248-DS-10</td>\n      <td>&lt;SEX&gt; M &lt;SERVICE&gt; MEDICINE &lt;ALLERGIES&gt; No Know...</td>\n      <td>Mr. ___ is a ___ with history of mild FVIII de...</td>\n      <td>1961</td>\n      <td>230</td>\n      <td>20600184</td>\n      <td>DS</td>\n      <td>10</td>\n      <td>2192-11-30 00:00:00</td>\n      <td>2192-11-30 19:49:00</td>\n    </tr>\n  </tbody>\n</table>\n</div>"
          },
          "metadata": {}
        }
      ],
      "execution_count": null
    },
    {
      "cell_type": "code",
      "source": [
        "df['dod'] = df['dod'].apply(lambda x: 1 if pd.notnull(x) and str(x).strip() != '' else 0)"
      ],
      "metadata": {
        "trusted": true,
        "execution": {
          "iopub.status.busy": "2025-06-11T23:22:35.73353Z",
          "iopub.execute_input": "2025-06-11T23:22:35.733836Z",
          "iopub.status.idle": "2025-06-11T23:22:35.900646Z",
          "shell.execute_reply.started": "2025-06-11T23:22:35.733808Z",
          "shell.execute_reply": "2025-06-11T23:22:35.899964Z"
        },
        "id": "xvM6WtP6GObp"
      },
      "outputs": [],
      "execution_count": null
    },
    {
      "cell_type": "code",
      "source": [
        "df = df.drop(columns=['subject_id','note_id','anchor_year','anchor_year_group','input_tokens','target_tokens','hadm_id','note_seq','charttime','storetime'])"
      ],
      "metadata": {
        "trusted": true,
        "execution": {
          "iopub.status.busy": "2025-06-11T23:22:35.901521Z",
          "iopub.execute_input": "2025-06-11T23:22:35.901822Z",
          "iopub.status.idle": "2025-06-11T23:22:35.941242Z",
          "shell.execute_reply.started": "2025-06-11T23:22:35.901794Z",
          "shell.execute_reply": "2025-06-11T23:22:35.940515Z"
        },
        "id": "PLkP0dUWGObq"
      },
      "outputs": [],
      "execution_count": null
    },
    {
      "cell_type": "code",
      "source": [
        "# Add metadata to input text\n",
        "def augment_input(row):\n",
        "    mortality = \"Deceased\" if row['dod'] == 0 else \"Alive\"\n",
        "    return (\n",
        "        f\"<Age> {row['anchor_age']} \"\n",
        "        f\"<Mortality> {mortality} \"\n",
        "        f\"<Note Type> {row['note_type']} \"\n",
        "        f\"{row['input']}\"\n",
        "    )\n",
        "\n",
        "df['augmented_input'] = df.apply(augment_input, axis=1)"
      ],
      "metadata": {
        "trusted": true,
        "execution": {
          "iopub.status.busy": "2025-06-11T23:22:35.942204Z",
          "iopub.execute_input": "2025-06-11T23:22:35.942457Z",
          "iopub.status.idle": "2025-06-11T23:22:40.838889Z",
          "shell.execute_reply.started": "2025-06-11T23:22:35.942431Z",
          "shell.execute_reply": "2025-06-11T23:22:40.838043Z"
        },
        "id": "jatlzOqKGObr"
      },
      "outputs": [],
      "execution_count": null
    },
    {
      "cell_type": "code",
      "source": [
        "df = df.drop(columns=[\n",
        "'gender',\t'anchor_age',\t'dod',\t'input',\t'note_type'])"
      ],
      "metadata": {
        "trusted": true,
        "execution": {
          "iopub.status.busy": "2025-06-11T23:22:40.839746Z",
          "iopub.execute_input": "2025-06-11T23:22:40.839989Z",
          "iopub.status.idle": "2025-06-11T23:22:40.894821Z",
          "shell.execute_reply.started": "2025-06-11T23:22:40.839971Z",
          "shell.execute_reply": "2025-06-11T23:22:40.894248Z"
        },
        "id": "vHg5qsRiGObs"
      },
      "outputs": [],
      "execution_count": null
    },
    {
      "cell_type": "code",
      "source": [
        "df.head()"
      ],
      "metadata": {
        "trusted": true,
        "execution": {
          "iopub.status.busy": "2025-06-11T23:22:40.895559Z",
          "iopub.execute_input": "2025-06-11T23:22:40.895833Z",
          "iopub.status.idle": "2025-06-11T23:22:40.904415Z",
          "shell.execute_reply.started": "2025-06-11T23:22:40.895797Z",
          "shell.execute_reply": "2025-06-11T23:22:40.903502Z"
        },
        "id": "ndPnWh6OGObt",
        "outputId": "60ea4f82-0398-4b15-dc1e-3f4d69fbe7aa"
      },
      "outputs": [
        {
          "execution_count": 8,
          "output_type": "execute_result",
          "data": {
            "text/plain": "                                              target  \\\n0  ___ HCV cirrhosis c/b ascites, hiv on ART, h/o...   \n1  ___ with HIV on HAART, HCV cirrhosis with asci...   \n2  Ms. ___ is a ___ with history of GERD who pres...   \n3  The patient presented to the emergency departm...   \n4  Mr. ___ is a ___ with history of mild FVIII de...   \n\n                                     augmented_input  \n0  <Age> 52 <Mortality> Alive <Note Type> DS <SEX...  \n1  <Age> 52 <Mortality> Alive <Note Type> DS <SEX...  \n2  <Age> 48 <Mortality> Deceased <Note Type> DS <...  \n3  <Age> 48 <Mortality> Deceased <Note Type> DS <...  \n4  <Age> 34 <Mortality> Deceased <Note Type> DS <...  ",
            "text/html": "<div>\n<style scoped>\n    .dataframe tbody tr th:only-of-type {\n        vertical-align: middle;\n    }\n\n    .dataframe tbody tr th {\n        vertical-align: top;\n    }\n\n    .dataframe thead th {\n        text-align: right;\n    }\n</style>\n<table border=\"1\" class=\"dataframe\">\n  <thead>\n    <tr style=\"text-align: right;\">\n      <th></th>\n      <th>target</th>\n      <th>augmented_input</th>\n    </tr>\n  </thead>\n  <tbody>\n    <tr>\n      <th>0</th>\n      <td>___ HCV cirrhosis c/b ascites, hiv on ART, h/o...</td>\n      <td>&lt;Age&gt; 52 &lt;Mortality&gt; Alive &lt;Note Type&gt; DS &lt;SEX...</td>\n    </tr>\n    <tr>\n      <th>1</th>\n      <td>___ with HIV on HAART, HCV cirrhosis with asci...</td>\n      <td>&lt;Age&gt; 52 &lt;Mortality&gt; Alive &lt;Note Type&gt; DS &lt;SEX...</td>\n    </tr>\n    <tr>\n      <th>2</th>\n      <td>Ms. ___ is a ___ with history of GERD who pres...</td>\n      <td>&lt;Age&gt; 48 &lt;Mortality&gt; Deceased &lt;Note Type&gt; DS &lt;...</td>\n    </tr>\n    <tr>\n      <th>3</th>\n      <td>The patient presented to the emergency departm...</td>\n      <td>&lt;Age&gt; 48 &lt;Mortality&gt; Deceased &lt;Note Type&gt; DS &lt;...</td>\n    </tr>\n    <tr>\n      <th>4</th>\n      <td>Mr. ___ is a ___ with history of mild FVIII de...</td>\n      <td>&lt;Age&gt; 34 &lt;Mortality&gt; Deceased &lt;Note Type&gt; DS &lt;...</td>\n    </tr>\n  </tbody>\n</table>\n</div>"
          },
          "metadata": {}
        }
      ],
      "execution_count": null
    },
    {
      "cell_type": "code",
      "source": [
        "df"
      ],
      "metadata": {
        "trusted": true,
        "execution": {
          "iopub.status.busy": "2025-06-11T23:22:40.906528Z",
          "iopub.execute_input": "2025-06-11T23:22:40.906792Z",
          "iopub.status.idle": "2025-06-11T23:22:40.926335Z",
          "shell.execute_reply.started": "2025-06-11T23:22:40.906775Z",
          "shell.execute_reply": "2025-06-11T23:22:40.925733Z"
        },
        "id": "3v71B7DtGObu",
        "outputId": "4326506a-d231-46b8-88af-0a562f082b3b"
      },
      "outputs": [
        {
          "execution_count": 9,
          "output_type": "execute_result",
          "data": {
            "text/plain": "                                                   target  \\\n0       ___ HCV cirrhosis c/b ascites, hiv on ART, h/o...   \n1       ___ with HIV on HAART, HCV cirrhosis with asci...   \n2       Ms. ___ is a ___ with history of GERD who pres...   \n3       The patient presented to the emergency departm...   \n4       Mr. ___ is a ___ with history of mild FVIII de...   \n...                                                   ...   \n270028  Mr. ___ is a ___ without significant medical h...   \n270029  Ms. ___ is a ___ year old female with a histor...   \n270030  ___ year old man hx of epilepsy and left tempo...   \n270031  Mr. ___ was admitted with status epilepticus. ...   \n270032  This is a ___ year old woman with a history of...   \n\n                                          augmented_input  \n0       <Age> 52 <Mortality> Alive <Note Type> DS <SEX...  \n1       <Age> 52 <Mortality> Alive <Note Type> DS <SEX...  \n2       <Age> 48 <Mortality> Deceased <Note Type> DS <...  \n3       <Age> 48 <Mortality> Deceased <Note Type> DS <...  \n4       <Age> 34 <Mortality> Deceased <Note Type> DS <...  \n...                                                   ...  \n270028  <Age> 57 <Mortality> Deceased <Note Type> DS <...  \n270029  <Age> 46 <Mortality> Deceased <Note Type> DS <...  \n270030  <Age> 58 <Mortality> Alive <Note Type> DS <SEX...  \n270031  <Age> 58 <Mortality> Alive <Note Type> DS <SEX...  \n270032  <Age> 57 <Mortality> Deceased <Note Type> DS <...  \n\n[270033 rows x 2 columns]",
            "text/html": "<div>\n<style scoped>\n    .dataframe tbody tr th:only-of-type {\n        vertical-align: middle;\n    }\n\n    .dataframe tbody tr th {\n        vertical-align: top;\n    }\n\n    .dataframe thead th {\n        text-align: right;\n    }\n</style>\n<table border=\"1\" class=\"dataframe\">\n  <thead>\n    <tr style=\"text-align: right;\">\n      <th></th>\n      <th>target</th>\n      <th>augmented_input</th>\n    </tr>\n  </thead>\n  <tbody>\n    <tr>\n      <th>0</th>\n      <td>___ HCV cirrhosis c/b ascites, hiv on ART, h/o...</td>\n      <td>&lt;Age&gt; 52 &lt;Mortality&gt; Alive &lt;Note Type&gt; DS &lt;SEX...</td>\n    </tr>\n    <tr>\n      <th>1</th>\n      <td>___ with HIV on HAART, HCV cirrhosis with asci...</td>\n      <td>&lt;Age&gt; 52 &lt;Mortality&gt; Alive &lt;Note Type&gt; DS &lt;SEX...</td>\n    </tr>\n    <tr>\n      <th>2</th>\n      <td>Ms. ___ is a ___ with history of GERD who pres...</td>\n      <td>&lt;Age&gt; 48 &lt;Mortality&gt; Deceased &lt;Note Type&gt; DS &lt;...</td>\n    </tr>\n    <tr>\n      <th>3</th>\n      <td>The patient presented to the emergency departm...</td>\n      <td>&lt;Age&gt; 48 &lt;Mortality&gt; Deceased &lt;Note Type&gt; DS &lt;...</td>\n    </tr>\n    <tr>\n      <th>4</th>\n      <td>Mr. ___ is a ___ with history of mild FVIII de...</td>\n      <td>&lt;Age&gt; 34 &lt;Mortality&gt; Deceased &lt;Note Type&gt; DS &lt;...</td>\n    </tr>\n    <tr>\n      <th>...</th>\n      <td>...</td>\n      <td>...</td>\n    </tr>\n    <tr>\n      <th>270028</th>\n      <td>Mr. ___ is a ___ without significant medical h...</td>\n      <td>&lt;Age&gt; 57 &lt;Mortality&gt; Deceased &lt;Note Type&gt; DS &lt;...</td>\n    </tr>\n    <tr>\n      <th>270029</th>\n      <td>Ms. ___ is a ___ year old female with a histor...</td>\n      <td>&lt;Age&gt; 46 &lt;Mortality&gt; Deceased &lt;Note Type&gt; DS &lt;...</td>\n    </tr>\n    <tr>\n      <th>270030</th>\n      <td>___ year old man hx of epilepsy and left tempo...</td>\n      <td>&lt;Age&gt; 58 &lt;Mortality&gt; Alive &lt;Note Type&gt; DS &lt;SEX...</td>\n    </tr>\n    <tr>\n      <th>270031</th>\n      <td>Mr. ___ was admitted with status epilepticus. ...</td>\n      <td>&lt;Age&gt; 58 &lt;Mortality&gt; Alive &lt;Note Type&gt; DS &lt;SEX...</td>\n    </tr>\n    <tr>\n      <th>270032</th>\n      <td>This is a ___ year old woman with a history of...</td>\n      <td>&lt;Age&gt; 57 &lt;Mortality&gt; Deceased &lt;Note Type&gt; DS &lt;...</td>\n    </tr>\n  </tbody>\n</table>\n<p>270033 rows × 2 columns</p>\n</div>"
          },
          "metadata": {}
        }
      ],
      "execution_count": null
    },
    {
      "cell_type": "code",
      "source": [
        "df['target'][0]"
      ],
      "metadata": {
        "trusted": true,
        "execution": {
          "iopub.status.busy": "2025-06-11T23:22:40.92707Z",
          "iopub.execute_input": "2025-06-11T23:22:40.927383Z",
          "iopub.status.idle": "2025-06-11T23:22:40.944501Z",
          "shell.execute_reply.started": "2025-06-11T23:22:40.927365Z",
          "shell.execute_reply": "2025-06-11T23:22:40.943947Z"
        },
        "id": "CUqp_9AjGObu",
        "outputId": "a1d2f826-ca2e-4eb5-8ee0-7fc50e660703"
      },
      "outputs": [
        {
          "execution_count": 10,
          "output_type": "execute_result",
          "data": {
            "text/plain": "'___ HCV cirrhosis c/b ascites, hiv on ART, h/o IVDU, COPD, bioplar, PTSD, presented from OSH ED with worsening abd distension over past week and confusion. # Ascites - p/w worsening abd distension and discomfort for last week. likely ___ portal HTN given underlying liver disease, though no ascitic fluid available on night of admission. No signs of heart failure noted on exam. This was ___ to med non-compliance and lack of diet restriction. SBP negative diuretics: > Furosemide 40 mg PO DAILY > Spironolactone 50 mg PO DAILY, chosen over the usual 100mg dose d/t K+ of 4.5. CXR was wnl, UA negative, Urine culture blood culture negative. Pt was losing excess fluid appropriately with stable lytes on the above regimen. Pt was scheduled with current PCP for ___ check upon discharge. Pt was scheduled for new PCP with Dr. ___ at ___ and follow up in Liver clinic to schedule outpatient screening EGD and ___. '"
          },
          "metadata": {}
        }
      ],
      "execution_count": null
    },
    {
      "cell_type": "code",
      "source": [
        "df['augmented_input'][0]"
      ],
      "metadata": {
        "trusted": true,
        "execution": {
          "iopub.status.busy": "2025-06-11T23:22:40.945333Z",
          "iopub.execute_input": "2025-06-11T23:22:40.946027Z",
          "iopub.status.idle": "2025-06-11T23:22:40.962754Z",
          "shell.execute_reply.started": "2025-06-11T23:22:40.946009Z",
          "shell.execute_reply": "2025-06-11T23:22:40.962065Z"
        },
        "id": "eYXdRsc9GObv",
        "outputId": "e70fc2ec-988a-4213-aa87-b8cfa7d331c1"
      },
      "outputs": [
        {
          "execution_count": 11,
          "output_type": "execute_result",
          "data": {
            "text/plain": "'<Age> 52 <Mortality> Alive <Note Type> DS <SEX> F <SERVICE> MEDICINE <ALLERGIES> No Known Allergies / Adverse Drug Reactions <ATTENDING> ___ <CHIEF COMPLAINT> Worsening ABD distension and pain <MAJOR SURGICAL OR INVASIVE PROCEDURE> Paracentesis <HISTORY OF PRESENT ILLNESS> ___ HCV cirrhosis c/b ascites, hiv on ART, h/o IVDU, COPD, bioplar, PTSD, presented from OSH ED with worsening abd distension over past week. Pt reports self-discontinuing lasix and spirnolactone ___ weeks ago, because she feels like \"they don\\'t do anything\" and that she \"doesn\\'t want to put more chemicals in her.\" She does not follow Na-restricted diets. In the past week, she notes that she has been having worsening abd distension and discomfort. She denies ___ edema, or SOB, or orthopnea. She denies f/c/n/v, d/c, dysuria. She had food poisoning a week ago from eating stale cake (n/v 20 min after food ingestion), which resolved the same day. She denies other recent illness or sick contacts. She notes that she has been noticing gum bleeding while brushing her teeth in recent weeks. she denies easy bruising, melena, BRBPR, hemetesis, hemoptysis, or hematuria. Because of her abd pain, she went to OSH ED and was transferred to ___ for further care. Per ED report, pt has brief period of confusion - she did not recall the ultrasound or bloodwork at osh. She denies recent drug use or alcohol use. She denies feeling confused, but reports that she is forgetful at times. In the ED, initial vitals were 98.4 70 106/63 16 97%RA Labs notable for ALT/AST/AP ___ ___: ___, Tbili1.6, WBC 5K, platelet 77, INR 1.6 <PAST MEDICAL HISTORY> 1. HCV Cirrhosis 2. No history of abnormal Pap smears. 3. She had calcification in her breast, which was removed previously and per patient not, it was benign. 4. For HIV disease, she is being followed by Dr. ___ Dr. ___. 5. COPD 6. Past history of smoking. 7. She also had a skin lesion, which was biopsied and showed skin cancer per patient report and is scheduled for a complete removal of the skin lesion in ___ of this year. 8. She also had another lesion in her forehead with purple discoloration. It was biopsied to exclude the possibility of ___\\'s sarcoma, the results is pending. 9. A 15 mm hypoechoic lesion on her ultrasound on ___ and is being monitored by an MRI. 10. History of dysplasia of anus in ___. 11. Bipolar affective disorder, currently manic, mild, and PTSD. 12. History of cocaine and heroin use. <SOCIAL HISTORY> ___ <FAMILY HISTORY> She a total of five siblings, but she is not talking to most of them. She only has one brother that she is in touch with and lives in ___. She is not aware of any known GI or liver disease in her family. Her last alcohol consumption was one drink two months ago. No regular alcohol consumption. Last drug use ___ years ago. She quit smoking a couple of years ago. <PHYSICAL EXAM> VS: 98.1 107/61 78 18 97RA General: in NAD HEENT: CTAB, anicteric sclera, OP clear Neck: supple, no LAD CV: RRR,S1S2, no m/r/g Lungs: CTAb, prolonged expiratory phase, no w/r/r Abdomen: distended, mild diffuse tenderness, +flank dullness, cannot percuss liver/spleen edge ___ distension GU: no foley Ext: wwp, no c/e/e, + clubbing Neuro: AAO3, converse normally, able to recall 3 times after 5 minutes, CN II-XII intact Discharge: PHYSICAL EXAMINATION: VS: 98 105/70 95 General: in NAD HEENT: anicteric sclera, OP clear Neck: supple, no LAD CV: RRR,S1S2, no m/r/g Lungs: CTAb, prolonged expiratory phase, no w/r/r Abdomen: distended but improved, TTP in RUQ, GU: no foley Ext: wwp, no c/e/e, + clubbing Neuro: AAO3, CN II-XII intact <PERTINENT RESULTS> ___ 10: 25PM GLUCOSE-109* UREA N-25* CREAT-0.3* SODIUM-138 POTASSIUM-3.4 CHLORIDE-105 TOTAL CO2-27 ANION GAP-9 ___ 10: 25PM estGFR-Using this ___ 10: 25PM ALT(SGPT)-100* AST(SGOT)-114* ALK PHOS-114* TOT BILI-1.6* ___ 10: 25PM LIPASE-77* ___ 10: 25PM ALBUMIN-3.3* ___ 10: 25PM WBC-5.0# RBC-4.29 HGB-14.3 HCT-42.6 MCV-99* MCH-33.3* MCHC-33.5 RDW-15.7* ___ 10: 25PM NEUTS-70.3* LYMPHS-16.5* MONOS-8.1 EOS-4.2* BASOS-0.8 ___ 10: 25PM PLT COUNT-71* ___ 10: 25PM ___ PTT-30.9 ___ ___ 10: 25PM ___ . CXR: No acute cardiopulmonary process. U/S: 1. Nodular appearance of the liver compatible with cirrhosis. Signs of portal hypertension including small amount of ascites and splenomegaly. 2. Cholelithiasis. 3. Patent portal veins with normal hepatopetal flow. Diagnostic para attempted in the ED, unsuccessful. On the floor, pt c/o abd distension and discomfort. <MEDICATIONS ON ADMISSION> The Preadmission Medication list is accurate and complete. 1. Furosemide 20 mg PO DAILY 2. Spironolactone 50 mg PO DAILY 3. Albuterol Inhaler 2 PUFF IH Q4H: PRN wheezing, SOB 4. Raltegravir 400 mg PO BID 5. Emtricitabine-Tenofovir (Truvada) 1 TAB PO DAILY 6. Nicotine Patch 14 mg TD DAILY 7. Ipratropium Bromide Neb 1 NEB IH Q6H SOB <DISCHARGE MEDICATIONS> 1. Albuterol Inhaler 2 PUFF IH Q4H: PRN wheezing, SOB 2. Emtricitabine-Tenofovir (Truvada) 1 TAB PO DAILY 3. Furosemide 40 mg PO DAILY RX *furosemide 40 mg 1 tablet(s) by mouth Daily Disp #*30 Tablet Refills: *3 4. Ipratropium Bromide Neb 1 NEB IH Q6H SOB 5. Nicotine Patch 14 mg TD DAILY 6. Raltegravir 400 mg PO BID 7. Spironolactone 50 mg PO DAILY 8. Acetaminophen 500 mg PO Q6H: PRN pain <DISCHARGE DISPOSITION> Home <DISCHARGE DIAGNOSIS> Ascites from Portal HTN <DISCHARGE CONDITION> Mental Status: Clear and coherent. Level of Consciousness: Alert and interactive. Activity Status: Ambulatory - Independent. <FOLLOWUP INSTRUCTIONS> ___ <DISCHARGE INSTRUCTIONS> Dear Ms. ___, It was a pleasure taking care of you! You came to us with stomach pain and worsening distension. While you were here we did a paracentesis to remove 1.5L of fluid from your belly. We also placed you on you 40 mg of Lasix and 50 mg of Aldactone to help you urinate the excess fluid still in your belly. As we discussed, everyone has a different dose of lasix required to make them urinate and it\\'s likely that you weren\\'t taking a high enough dose. Please take these medications daily to keep excess fluid off and eat a low salt diet. You will follow up with Dr. ___ in liver clinic and from there have your colonoscopy and EGD scheduled. Of course, we are always here if you need us. We wish you all the best! Your ___ Team. '"
          },
          "metadata": {}
        }
      ],
      "execution_count": null
    },
    {
      "cell_type": "code",
      "source": [
        "import spacy\n",
        "\n",
        "nlp = spacy.load(\"en_core_web_sm\")\n",
        "stop_words = nlp.Defaults.stop_words\n",
        "print(stop_words)\n",
        ""
      ],
      "metadata": {
        "trusted": true,
        "execution": {
          "iopub.status.busy": "2025-06-11T23:23:10.740772Z",
          "iopub.execute_input": "2025-06-11T23:23:10.741556Z",
          "iopub.status.idle": "2025-06-11T23:23:14.708111Z",
          "shell.execute_reply.started": "2025-06-11T23:23:10.741532Z",
          "shell.execute_reply": "2025-06-11T23:23:14.707301Z"
        },
        "id": "figDlsgCGObv",
        "outputId": "fe13092c-8349-4435-ad07-8db7ca4171a2"
      },
      "outputs": [
        {
          "name": "stdout",
          "text": "{'he', 'then', 'anything', 'therefore', 'the', 'serious', \"'re\", 'anywhere', 'next', 'very', 'done', 'few', 'thereafter', 'herein', 'is', 'get', 'various', 'elsewhere', 'too', 'also', 'thus', 'but', 'for', 'more', 'must', 'sometimes', 'have', 'except', 'not', 're', 'each', 'latterly', 'say', 'yours', 'seems', 'who', 'further', 'had', 'full', 'somehow', 'whole', 'someone', 'its', 'at', 'sixty', 'many', 'there', 'go', 'on', 'because', 'by', 'six', '’m', '’s', 'themselves', 'be', 'something', 'either', 'bottom', 'alone', 'really', 'a', 'neither', 'five', 'an', 'himself', 'herself', 'three', 'which', 'amount', 'their', 'up', 'everywhere', '‘ll', 'did', 'enough', 'nothing', 'become', 'much', 'via', 'do', 'amongst', 'and', 'beforehand', '’ve', 'already', 'from', 'has', 'your', 'fifteen', 'you', 'becomes', 'again', 'third', 'behind', 'four', 'been', 'last', 'almost', 'does', 'first', 'we', 'quite', 'never', 'two', 'anyhow', 'every', 'whereupon', 'that', 'along', 'else', 'myself', 'nine', 'less', 'whereas', 'hence', 'where', 'before', 'may', 'thru', 'below', 'ca', 'i', 'with', 'us', 'only', '‘s', 'back', 'several', 'those', \"'m\", 'here', 'they', 'give', 'under', \"'ll\", 'ours', 'side', 'nor', 'his', 'among', 'how', 'it', 'see', 'any', 'whence', 'now', 'could', 'once', 'due', 'toward', '’re', 'move', 'together', 'of', 'still', 'twenty', 'anyway', 'show', 'towards', 'indeed', 'latter', 'moreover', 'around', 'others', 'ten', 'though', 'always', 'beyond', 'rather', 'one', 'part', 'unless', '‘ve', 'so', 'whatever', 'make', 'across', 'none', 'as', 'him', 'same', 'take', 'over', 'eleven', 'other', 'becoming', 'she', 'keep', 'most', 'n‘t', 'ever', '‘d', 'hers', 'name', 'to', 'per', 'against', 'until', 'if', 'mostly', 'this', 'such', 'meanwhile', 'whoever', 'onto', 'made', 'therein', '‘re', 'afterwards', 'am', 'might', 'although', 'put', 'whereby', 'anyone', 'yet', 'some', 'why', 'my', 'all', 'noone', '’d', 'will', 'wherever', 'thereby', 'hereupon', 'me', 'our', 'doing', 'even', 'than', 'cannot', 'are', 'call', '’ll', 'into', 'hundred', 'nobody', 'when', 'through', 'while', 'whose', 'throughout', 'can', 'formerly', 'between', 'in', 'least', 'nowhere', 'besides', 'own', 'seemed', 'another', 'often', 'off', 'thereupon', 'please', 'n’t', 'seeming', 'since', 'everyone', 'nevertheless', 'somewhere', 'seem', 'no', 'whom', 'just', 'her', 'these', 'thence', 'yourselves', 'whether', 'sometime', 'however', 'would', 'forty', 'or', 'top', 'whereafter', 'became', 'ourselves', 'within', 'everything', 'fifty', 'during', 'using', 'wherein', 'upon', 'itself', 'was', 'above', 'beside', 'eight', 'former', 'front', 'them', 'hereafter', 'regarding', 'whenever', 'what', 'twelve', 'namely', 'about', 'without', 'used', 'well', 'down', 'after', 'both', \"'d\", 'mine', 'hereby', 'were', \"'ve\", 'otherwise', \"n't\", \"'s\", 'empty', 'yourself', 'should', '‘m', 'perhaps', 'being', 'out', 'whither'}\n",
          "output_type": "stream"
        }
      ],
      "execution_count": null
    },
    {
      "cell_type": "code",
      "source": [
        "import string\n",
        "punctuations = string.punctuation\n",
        "print(punctuations)"
      ],
      "metadata": {
        "trusted": true,
        "execution": {
          "iopub.status.busy": "2025-06-11T23:23:14.709501Z",
          "iopub.execute_input": "2025-06-11T23:23:14.71015Z",
          "iopub.status.idle": "2025-06-11T23:23:14.714396Z",
          "shell.execute_reply.started": "2025-06-11T23:23:14.710129Z",
          "shell.execute_reply": "2025-06-11T23:23:14.7137Z"
        },
        "id": "jX1gtCd6GObw",
        "outputId": "01942399-c987-42a9-ff14-59ad99d16d66"
      },
      "outputs": [
        {
          "name": "stdout",
          "text": "!\"#$%&'()*+,-./:;<=>?@[\\]^_`{|}~\n",
          "output_type": "stream"
        }
      ],
      "execution_count": null
    },
    {
      "cell_type": "code",
      "source": [
        "import re\n",
        "import spacy\n",
        "from spacy.lang.en.stop_words import STOP_WORDS\n",
        "from string import punctuation\n",
        "\n",
        "# Load spaCy model\n",
        "nlp = spacy.load(\"en_core_web_sm\")\n",
        "\n",
        "# Words we want to keep even though spaCy treats them as stopwords\n",
        "keep_words = {\"yes\", \"no\"}\n",
        "\n",
        "# Make sure \"yes\" and \"no\" are not marked as stopwords in the vocab\n",
        "for word in keep_words:\n",
        "    nlp.vocab[word].is_stop = False\n",
        "\n",
        "# Get current stop words after editing\n",
        "stop_words = STOP_WORDS - keep_words\n",
        "punctuations = set(punctuation)\n",
        "\n",
        "def clean_ehr_text(raw_text):\n",
        "    # Define sections to REMOVE (regex is case-insensitive, ignores <...>)\n",
        "    remove_sections = [\n",
        "        r\"<SEX>.*?(?=<|$)\",\n",
        "        r\"<SERVICE>.*?(?=<|$)\",\n",
        "        r\"<Age>.*?(?=<|$)\",\n",
        "        r\"<Mortality>.*?(?=<|$)\",\n",
        "        r\"<Note Type>.*?(?=<|$)\",\n",
        "        r\"<ATTENDING>.*?(?=<|$)\",\n",
        "        r\"<SOCIAL HISTORY>.*?(?=<|$)\",\n",
        "        r\"<FAMILY HISTORY>.*?(?=<|$)\",\n",
        "        r\"<DISCHARGE INSTRUCTIONS>.*?(?=<|$)\",\n",
        "        r\"<DISCHARGE DISPOSITION>.*?(?=<|$)\",\n",
        "        r\"<DISCHARGE DIAGNOSIS>.*?(?=<|$)\",\n",
        "        r\"<DISCHARGE CONDITION>.*?(?=<|$)\",\n",
        "        r\"<FOLLOWUP INSTRUCTIONS>.*?(?=<|$)\",\n",
        "        r\"<DISCHARGE MEDICATIONS>.*?(?=<|$)\",\n",
        "        r\"<PAST MEDICAL HISTORY>.*?(?=<|$)\",\n",
        "    ]\n",
        "\n",
        "    combined_pattern = re.compile(\"|\".join(remove_sections), re.IGNORECASE | re.DOTALL)\n",
        "    cleaned_text = re.sub(combined_pattern, \"\", raw_text)\n",
        "\n",
        "    # Remove excessive blank lines and whitespace\n",
        "    cleaned_text = re.sub(r'\\n\\s*\\n+', '\\n\\n', cleaned_text).strip()\n",
        "    text = cleaned_text\n",
        "\n",
        "    # Clean and format text\n",
        "    text = re.sub(r\"\\s+\", \" \", text)\n",
        "    text = re.sub(r\"(</?[A-Z ]+>)\", r\"\\n\\1\\n\", text)\n",
        "    text = re.sub(r\"_+\", \"\", text)\n",
        "    text = re.sub(r\"\\d{1,2}:\\d{2}\\s*(?:AM|PM)?\", \"\", text, flags=re.IGNORECASE)\n",
        "    text = re.sub(r\"[\\.\\:]\\s*___\", \"\", text)\n",
        "    text = re.sub(r\"(</?[A-Z ]+>)\", lambda m: m.group(1).upper(), text)\n",
        "    text = re.sub(r\"\\s+([,:;])\", r\"\\1\", text)\n",
        "    text = re.sub(r\"([,:;])\\s+\", r\"\\1 \", text)\n",
        "    text = re.sub(r\"\\s{2,}\", \" \", text)\n",
        "    text = re.sub(r\"\\n{2,}\", \"\\n\", text)\n",
        "\n",
        "    # Tokenize and lemmatize using spaCy\n",
        "    doc = nlp(text.strip())\n",
        "    mytokens = [\n",
        "        token.lemma_.lower().strip()\n",
        "        for token in doc\n",
        "        if (token.text.lower() in keep_words) or (not token.is_stop and token.text not in punctuations)\n",
        "    ]\n",
        "\n",
        "    return mytokens\n",
        "\n",
        "\n",
        "raw_ehr = '<Age> 52 <Mortality> Alive <Note Type> DS <SEX> F <SERVICE> MEDICINE <ALLERGIES> No Known Allergies / Adverse Drug Reactions <ATTENDING> ___ <CHIEF COMPLAINT> Worsening ABD distension and pain <MAJOR SURGICAL OR INVASIVE PROCEDURE> Paracentesis <HISTORY OF PRESENT ILLNESS> ___ HCV cirrhosis c/b ascites, hiv on ART, h/o IVDU, COPD, bioplar, PTSD, presented from OSH ED with worsening abd distension over past week. Pt reports self-discontinuing lasix and spirnolactone ___ weeks ago, because she feels like \"they don\\'t do anything\" and that she \"doesn\\'t want to put more chemicals in her.\" She does not follow Na-restricted diets. In the past week, she notes that she has been having worsening abd distension and discomfort. She denies ___ edema, or SOB, or orthopnea. She denies f/c/n/v, d/c, dysuria. She had food poisoning a week ago from eating stale cake (n/v 20 min after food ingestion), which resolved the same day. She denies other recent illness or sick contacts. She notes that she has been noticing gum bleeding while brushing her teeth in recent weeks. she denies easy bruising, melena, BRBPR, hemetesis, hemoptysis, or hematuria. Because of her abd pain, she went to OSH ED and was transferred to ___ for further care. Per ED report, pt has brief period of confusion - she did not recall the ultrasound or bloodwork at osh. She denies recent drug use or alcohol use. She denies feeling confused, but reports that she is forgetful at times. In the ED, initial vitals were 98.4 70 106/63 16 97%RA Labs notable for ALT/AST/AP ___ ___: ___, Tbili1.6, WBC 5K, platelet 77, INR 1.6 <PAST MEDICAL HISTORY> 1. HCV Cirrhosis 2. No history of abnormal Pap smears. 3. She had calcification in her breast, which was removed previously and per patient not, it was benign. 4. For HIV disease, she is being followed by Dr. ___ Dr. ___. 5. COPD 6. Past history of smoking. 7. She also had a skin lesion, which was biopsied and showed skin cancer per patient report and is scheduled for a complete removal of the skin lesion in ___ of this year. 8. She also had another lesion in her forehead with purple discoloration. It was biopsied to exclude the possibility of ___\\'s sarcoma, the results is pending. 9. A 15 mm hypoechoic lesion on her ultrasound on ___ and is being monitored by an MRI. 10. History of dysplasia of anus in ___. 11. Bipolar affective disorder, currently manic, mild, and PTSD. 12. History of cocaine and heroin use. <SOCIAL HISTORY> ___ <FAMILY HISTORY> She a total of five siblings, but she is not talking to most of them. She only has one brother that she is in touch with and lives in ___. She is not aware of any known GI or liver disease in her family. Her last alcohol consumption was one drink two months ago. No regular alcohol consumption. Last drug use ___ years ago. She quit smoking a couple of years ago. <PHYSICAL EXAM> VS: 98.1 107/61 78 18 97RA General: in NAD HEENT: CTAB, anicteric sclera, OP clear Neck: supple, no LAD CV: RRR,S1S2, no m/r/g Lungs: CTAb, prolonged expiratory phase, no w/r/r Abdomen: distended, mild diffuse tenderness, +flank dullness, cannot percuss liver/spleen edge ___ distension GU: no foley Ext: wwp, no c/e/e, + clubbing Neuro: AAO3, converse normally, able to recall 3 times after 5 minutes, CN II-XII intact Discharge: PHYSICAL EXAMINATION: VS: 98 105/70 95 General: in NAD HEENT: anicteric sclera, OP clear Neck: supple, no LAD CV: RRR,S1S2, no m/r/g Lungs: CTAb, prolonged expiratory phase, no w/r/r Abdomen: distended but improved, TTP in RUQ, GU: no foley Ext: wwp, no c/e/e, + clubbing Neuro: AAO3, CN II-XII intact <PERTINENT RESULTS> ___ 10: 25PM GLUCOSE-109* UREA N-25* CREAT-0.3* SODIUM-138 POTASSIUM-3.4 CHLORIDE-105 TOTAL CO2-27 ANION GAP-9 ___ 10: 25PM estGFR-Using this ___ 10: 25PM ALT(SGPT)-100* AST(SGOT)-114* ALK PHOS-114* TOT BILI-1.6* ___ 10: 25PM LIPASE-77* ___ 10: 25PM ALBUMIN-3.3* ___ 10: 25PM WBC-5.0# RBC-4.29 HGB-14.3 HCT-42.6 MCV-99* MCH-33.3* MCHC-33.5 RDW-15.7* ___ 10: 25PM NEUTS-70.3* LYMPHS-16.5* MONOS-8.1 EOS-4.2* BASOS-0.8 ___ 10: 25PM PLT COUNT-71* ___ 10: 25PM ___ PTT-30.9 ___ ___ 10: 25PM ___ . CXR: No acute cardiopulmonary process. U/S: 1. Nodular appearance of the liver compatible with cirrhosis. Signs of portal hypertension including small amount of ascites and splenomegaly. 2. Cholelithiasis. 3. Patent portal veins with normal hepatopetal flow. Diagnostic para attempted in the ED, unsuccessful. On the floor, pt c/o abd distension and discomfort. <MEDICATIONS ON ADMISSION> The Preadmission Medication list is accurate and complete. 1. Furosemide 20 mg PO DAILY 2. Spironolactone 50 mg PO DAILY 3. Albuterol Inhaler 2 PUFF IH Q4H: PRN wheezing, SOB 4. Raltegravir 400 mg PO BID 5. Emtricitabine-Tenofovir (Truvada) 1 TAB PO DAILY 6. Nicotine Patch 14 mg TD DAILY 7. Ipratropium Bromide Neb 1 NEB IH Q6H SOB <DISCHARGE MEDICATIONS> 1. Albuterol Inhaler 2 PUFF IH Q4H: PRN wheezing, SOB 2. Emtricitabine-Tenofovir (Truvada) 1 TAB PO DAILY 3. Furosemide 40 mg PO DAILY RX *furosemide 40 mg 1 tablet(s) by mouth Daily Disp #*30 Tablet Refills: *3 4. Ipratropium Bromide Neb 1 NEB IH Q6H SOB 5. Nicotine Patch 14 mg TD DAILY 6. Raltegravir 400 mg PO BID 7. Spironolactone 50 mg PO DAILY 8. Acetaminophen 500 mg PO Q6H: PRN pain <DISCHARGE DISPOSITION> Home <DISCHARGE DIAGNOSIS> Ascites from Portal HTN <DISCHARGE CONDITION> Mental Status: Clear and coherent. Level of Consciousness: Alert and interactive. Activity Status: Ambulatory - Independent. <FOLLOWUP INSTRUCTIONS> ___ <DISCHARGE INSTRUCTIONS> Dear Ms. ___, It was a pleasure taking care of you! You came to us with stomach pain and worsening distension. While you were here we did a paracentesis to remove 1.5L of fluid from your belly. We also placed you on you 40 mg of Lasix and 50 mg of Aldactone to help you urinate the excess fluid still in your belly. As we discussed, everyone has a different dose of lasix required to make them urinate and it\\'s likely that you weren\\'t taking a high enough dose. Please take these medications daily to keep excess fluid off and eat a low salt diet. You will follow up with Dr. ___ in liver clinic and from there have your colonoscopy and EGD scheduled. Of course, we are always here if you need us. We wish you all the best! Your ___ Team. '\n",
        "cleaned_ehr = clean_ehr_text(raw_ehr)\n",
        "print(cleaned_ehr)"
      ],
      "metadata": {
        "trusted": true,
        "execution": {
          "iopub.status.busy": "2025-06-11T23:26:50.136832Z",
          "iopub.execute_input": "2025-06-11T23:26:50.137144Z",
          "iopub.status.idle": "2025-06-11T23:26:50.896751Z",
          "shell.execute_reply.started": "2025-06-11T23:26:50.137124Z",
          "shell.execute_reply": "2025-06-11T23:26:50.895989Z"
        },
        "id": "k4eZMVXqGObw",
        "outputId": "f4fa975c-6922-463d-c741-093f1e6d0cc3"
      },
      "outputs": [
        {
          "name": "stdout",
          "text": "['allergy', 'no', 'known', 'allergies', 'adverse', 'drug', 'reactions', 'chief', 'complaint', 'worsen', 'abd', 'distension', 'pain', 'major', 'surgical', 'invasive', 'procedure', 'paracentesis', 'history', 'present', 'illness', 'hcv', 'cirrhosis', 'c', 'b', 'ascite', 'hiv', 'art', 'h', 'o', 'ivdu', 'copd', 'bioplar', 'ptsd', 'present', 'osh', 'ed', 'worsen', 'abd', 'distension', 'past', 'week', 'pt', 'report', 'self', 'discontinue', 'lasix', 'spirnolactone', 'week', 'ago', 'feel', 'like', 'want', 'chemical', 'follow', 'na', 'restrict', 'diet', 'past', 'week', 'note', 'have', 'worsen', 'abd', 'distension', 'discomfort', 'deny', 'edema', 'sob', 'orthopnea', 'deny', 'f', 'c', 'n', 'v', 'd', 'c', 'dysuria', 'food', 'poisoning', 'week', 'ago', 'eat', 'stale', 'cake', 'n', 'v', '20', 'min', 'food', 'ingestion', 'resolve', 'day', 'deny', 'recent', 'illness', 'sick', 'contact', 'note', 'notice', 'gum', 'bleeding', 'brush', 'tooth', 'recent', 'week', 'deny', 'easy', 'bruising', 'melena', 'brbpr', 'hemetesis', 'hemoptysis', 'hematuria', 'abd', 'pain', 'go', 'osh', 'ed', 'transfer', 'care', 'ed', 'report', 'pt', 'brief', 'period', 'confusion', 'recall', 'ultrasound', 'bloodwork', 'osh', 'deny', 'recent', 'drug', 'use', 'alcohol', 'use', 'deny', 'feel', 'confused', 'report', 'forgetful', 'time', 'ed', 'initial', 'vital', '98.4', '70', '106/63', '16', '97%ra', 'labs', 'notable', 'alt', 'ast', 'ap', 'tbili1.6', 'wbc', '5', 'k', 'platelet', '77', 'inr', '1.6', 'physical', 'exam', 'vs', '98.1', '107/61', '78', '18', '97ra', 'general', 'nad', 'heent', 'ctab', 'anicteric', 'sclera', 'op', 'clear', 'neck', 'supple', 'no', 'lad', 'cv', 'rrr', 's1s2', 'no', 'm', 'r', 'g', 'lungs', 'ctab', 'prolong', 'expiratory', 'phase', 'no', 'w', 'r', 'r', 'abdomen', 'distend', 'mild', 'diffuse', 'tenderness', 'flank', 'dullness', 'percuss', 'liver', 'spleen', 'edge', 'distension', 'gu', 'no', 'foley', 'ext', 'wwp', 'no', 'c', 'e', 'e', 'club', 'neuro', 'aao3', 'converse', 'normally', 'able', 'recall', '3', 'time', '5', 'minute', 'cn', 'ii', 'xii', 'intact', 'discharge', 'physical', 'examination', 'vs', '98', '105/70', '95', 'general', 'nad', 'heent', 'anicteric', 'sclera', 'op', 'clear', 'neck', 'supple', 'no', 'lad', 'cv', 'rrr', 's1s2', 'no', 'm', 'r', 'g', 'lungs', 'ctab', 'prolong', 'expiratory', 'phase', 'no', 'w', 'r', 'r', 'abdomen', 'distend', 'improve', 'ttp', 'ruq', 'gu', 'no', 'foley', 'ext', 'wwp', 'no', 'c', 'e', 'e', 'club', 'neuro', 'aao3', 'cn', 'ii', 'xii', 'intact', 'pertinent', 'result', '10', '25pm', 'glucose-109', 'urea', 'n-25', 'creat-0.3', 'sodium-138', 'potassium-3.4', 'chloride-105', 'total', 'co2', '27', 'anion', 'gap-9', '10', '25pm', 'estgfr', '10', '25pm', 'alt(sgpt)-100', 'ast(sgot)-114', 'alk', 'phos-114', 'tot', 'bili-1.6', '10', '25pm', 'lipase-77', '10', '25pm', 'albumin-3.3', '10', '25pm', 'wbc-5.0', 'rbc-4.29', 'hgb-14.3', 'hct-42.6', 'mcv-99', 'mch-33.3', 'mchc-33.5', 'rdw-15.7', '10', '25pm', 'neuts-70.3', 'lymphs-16.5', 'monos-8.1', 'eos-4.2', 'basos-0.8', '10', '25pm', 'plt', 'count-71', '10', '25pm', 'ptt-30.9', '10', '25pm', 'cxr', 'no', 'acute', 'cardiopulmonary', 'process', 'u', 's', '1', 'nodular', 'appearance', 'liver', 'compatible', 'cirrhosis', 'sign', 'portal', 'hypertension', 'include', 'small', 'ascite', 'splenomegaly', '2', 'cholelithiasis', '3', 'patent', 'portal', 'vein', 'normal', 'hepatopetal', 'flow', 'diagnostic', 'para', 'attempt', 'ed', 'unsuccessful', 'floor', 'pt', 'c', 'o', 'abd', 'distension', 'discomfort', 'medication', 'admission', 'preadmission', 'medication', 'list', 'accurate', 'complete', '1', 'furosemide', '20', 'mg', 'po', 'daily', '2', 'spironolactone', '50', 'mg', 'po', 'daily', '3', 'albuterol', 'inhaler', '2', 'puff', 'ih', 'q4h', 'prn', 'wheezing', 'sob', '4', 'raltegravir', '400', 'mg', 'po', 'bid', '5', 'emtricitabine', 'tenofovir', 'truvada', '1', 'tab', 'po', 'daily', '6', 'nicotine', 'patch', '14', 'mg', 'td', 'daily', '7', 'ipratropium', 'bromide', 'neb', '1', 'neb', 'ih', 'q6h', 'sob']\n",
          "output_type": "stream"
        }
      ],
      "execution_count": null
    },
    {
      "cell_type": "code",
      "source": [
        "import pandas as pd\n",
        "import re\n",
        "\n",
        "# Define cardiac-related keywords\n",
        "cardiac_keywords = [\n",
        "    \"heart\", \"cardiac\", \"cardiovascular\", \"myocardium\", \"pericardium\", \"atrium\", \"atria\",\n",
        "    \"ventricle\", \"coronary\", \"ecg\", \"ekg\", \"electrocardiogram\", \"echo\", \"echocardiogram\",\n",
        "    \"holter\", \"stress test\", \"troponin\", \"bnp\", \"nt-probnp\", \"myocardial infarction\",\n",
        "    \"heart failure\", \"coronary artery disease\", \"cad\", \"arrhythmia\", \"bradycardia\",\n",
        "    \"tachycardia\", \"atherosclerosis\", \"angina\", \"atrial fibrillation\", \"afib\",\n",
        "    \"ventricular fibrillation\", \"hypertrophic cardiomyopathy\", \"dilated cardiomyopathy\",\n",
        "    \"valvular heart disease\", \"congenital heart defect\", \"ischemic heart disease\",\n",
        "    \"stent\", \"angioplasty\", \"pacemaker\", \"defibrillator\", \"cabg\"\n",
        "]\n",
        "\n",
        "# Compile regex pattern\n",
        "pattern = re.compile(r'\\b(?:' + '|'.join(map(re.escape, cardiac_keywords)) + r')\\b', re.IGNORECASE)\n",
        "\n",
        "# Apply logic to the DataFrame\n",
        "def label_cardiac(text):\n",
        "    if pd.isnull(text):\n",
        "        return \"No cardiac disease mentioned\"\n",
        "    return text if pattern.search(text) else \"No cardiac disease mentioned\"\n",
        "\n",
        "# Apply to the 'target' column\n",
        "df['target'] = df['target'].apply(label_cardiac)\n"
      ],
      "metadata": {
        "trusted": true,
        "execution": {
          "iopub.status.busy": "2025-06-11T23:36:58.579904Z",
          "iopub.execute_input": "2025-06-11T23:36:58.580632Z",
          "iopub.status.idle": "2025-06-11T23:38:07.00108Z",
          "shell.execute_reply.started": "2025-06-11T23:36:58.58061Z",
          "shell.execute_reply": "2025-06-11T23:38:07.000181Z"
        },
        "id": "sXmdSBO8GObx"
      },
      "outputs": [],
      "execution_count": null
    },
    {
      "cell_type": "code",
      "source": [
        "df"
      ],
      "metadata": {
        "trusted": true,
        "execution": {
          "iopub.status.busy": "2025-06-11T23:38:16.653809Z",
          "iopub.execute_input": "2025-06-11T23:38:16.654314Z",
          "iopub.status.idle": "2025-06-11T23:38:16.664032Z",
          "shell.execute_reply.started": "2025-06-11T23:38:16.654289Z",
          "shell.execute_reply": "2025-06-11T23:38:16.663154Z"
        },
        "id": "Va7jCseXGOby",
        "outputId": "139c2e87-6ef6-4cc8-cad9-365e643edbed"
      },
      "outputs": [
        {
          "execution_count": 27,
          "output_type": "execute_result",
          "data": {
            "text/plain": "                                                   target  \\\n0       ___ HCV cirrhosis c/b ascites, hiv on ART, h/o...   \n1       ___ with HIV on HAART, HCV cirrhosis with asci...   \n2                            No cardiac disease mentioned   \n3                            No cardiac disease mentioned   \n4                            No cardiac disease mentioned   \n...                                                   ...   \n270028                       No cardiac disease mentioned   \n270029                       No cardiac disease mentioned   \n270030                       No cardiac disease mentioned   \n270031  Mr. ___ was admitted with status epilepticus. ...   \n270032  This is a ___ year old woman with a history of...   \n\n                                          augmented_input  \n0       <Age> 52 <Mortality> Alive <Note Type> DS <SEX...  \n1       <Age> 52 <Mortality> Alive <Note Type> DS <SEX...  \n2       <Age> 48 <Mortality> Deceased <Note Type> DS <...  \n3       <Age> 48 <Mortality> Deceased <Note Type> DS <...  \n4       <Age> 34 <Mortality> Deceased <Note Type> DS <...  \n...                                                   ...  \n270028  <Age> 57 <Mortality> Deceased <Note Type> DS <...  \n270029  <Age> 46 <Mortality> Deceased <Note Type> DS <...  \n270030  <Age> 58 <Mortality> Alive <Note Type> DS <SEX...  \n270031  <Age> 58 <Mortality> Alive <Note Type> DS <SEX...  \n270032  <Age> 57 <Mortality> Deceased <Note Type> DS <...  \n\n[270033 rows x 2 columns]",
            "text/html": "<div>\n<style scoped>\n    .dataframe tbody tr th:only-of-type {\n        vertical-align: middle;\n    }\n\n    .dataframe tbody tr th {\n        vertical-align: top;\n    }\n\n    .dataframe thead th {\n        text-align: right;\n    }\n</style>\n<table border=\"1\" class=\"dataframe\">\n  <thead>\n    <tr style=\"text-align: right;\">\n      <th></th>\n      <th>target</th>\n      <th>augmented_input</th>\n    </tr>\n  </thead>\n  <tbody>\n    <tr>\n      <th>0</th>\n      <td>___ HCV cirrhosis c/b ascites, hiv on ART, h/o...</td>\n      <td>&lt;Age&gt; 52 &lt;Mortality&gt; Alive &lt;Note Type&gt; DS &lt;SEX...</td>\n    </tr>\n    <tr>\n      <th>1</th>\n      <td>___ with HIV on HAART, HCV cirrhosis with asci...</td>\n      <td>&lt;Age&gt; 52 &lt;Mortality&gt; Alive &lt;Note Type&gt; DS &lt;SEX...</td>\n    </tr>\n    <tr>\n      <th>2</th>\n      <td>No cardiac disease mentioned</td>\n      <td>&lt;Age&gt; 48 &lt;Mortality&gt; Deceased &lt;Note Type&gt; DS &lt;...</td>\n    </tr>\n    <tr>\n      <th>3</th>\n      <td>No cardiac disease mentioned</td>\n      <td>&lt;Age&gt; 48 &lt;Mortality&gt; Deceased &lt;Note Type&gt; DS &lt;...</td>\n    </tr>\n    <tr>\n      <th>4</th>\n      <td>No cardiac disease mentioned</td>\n      <td>&lt;Age&gt; 34 &lt;Mortality&gt; Deceased &lt;Note Type&gt; DS &lt;...</td>\n    </tr>\n    <tr>\n      <th>...</th>\n      <td>...</td>\n      <td>...</td>\n    </tr>\n    <tr>\n      <th>270028</th>\n      <td>No cardiac disease mentioned</td>\n      <td>&lt;Age&gt; 57 &lt;Mortality&gt; Deceased &lt;Note Type&gt; DS &lt;...</td>\n    </tr>\n    <tr>\n      <th>270029</th>\n      <td>No cardiac disease mentioned</td>\n      <td>&lt;Age&gt; 46 &lt;Mortality&gt; Deceased &lt;Note Type&gt; DS &lt;...</td>\n    </tr>\n    <tr>\n      <th>270030</th>\n      <td>No cardiac disease mentioned</td>\n      <td>&lt;Age&gt; 58 &lt;Mortality&gt; Alive &lt;Note Type&gt; DS &lt;SEX...</td>\n    </tr>\n    <tr>\n      <th>270031</th>\n      <td>Mr. ___ was admitted with status epilepticus. ...</td>\n      <td>&lt;Age&gt; 58 &lt;Mortality&gt; Alive &lt;Note Type&gt; DS &lt;SEX...</td>\n    </tr>\n    <tr>\n      <th>270032</th>\n      <td>This is a ___ year old woman with a history of...</td>\n      <td>&lt;Age&gt; 57 &lt;Mortality&gt; Deceased &lt;Note Type&gt; DS &lt;...</td>\n    </tr>\n  </tbody>\n</table>\n<p>270033 rows × 2 columns</p>\n</div>"
          },
          "metadata": {}
        }
      ],
      "execution_count": null
    },
    {
      "cell_type": "code",
      "source": [
        "from tqdm import tqdm\n",
        "tqdm.pandas()\n",
        "\n",
        "def clean_ehr_text(raw_text):\n",
        "    if pd.isnull(raw_text):\n",
        "        return []\n",
        "\n",
        "    remove_sections = [\n",
        "        r\"<SEX>.*?(?=<|$)\", r\"<SERVICE>.*?(?=<|$)\", r\"<Age>.*?(?=<|$)\", r\"<Mortality>.*?(?=<|$)\",\n",
        "        r\"<Note Type>.*?(?=<|$)\", r\"<ATTENDING>.*?(?=<|$)\", r\"<SOCIAL HISTORY>.*?(?=<|$)\",\n",
        "        r\"<FAMILY HISTORY>.*?(?=<|$)\", r\"<DISCHARGE INSTRUCTIONS>.*?(?=<|$)\",\n",
        "        r\"<DISCHARGE DISPOSITION>.*?(?=<|$)\", r\"<DISCHARGE DIAGNOSIS>.*?(?=<|$)\",\n",
        "        r\"<DISCHARGE CONDITION>.*?(?=<|$)\", r\"<FOLLOWUP INSTRUCTIONS>.*?(?=<|$)\",\n",
        "        r\"<DISCHARGE MEDICATIONS>.*?(?=<|$)\", r\"<PAST MEDICAL HISTORY>.*?(?=<|$)\",\n",
        "    ]\n",
        "\n",
        "    combined_pattern = re.compile(\"|\".join(remove_sections), re.IGNORECASE | re.DOTALL)\n",
        "    cleaned_text = re.sub(combined_pattern, \"\", raw_text)\n",
        "\n",
        "    # Format cleanup\n",
        "    cleaned_text = re.sub(r'\\n\\s*\\n+', '\\n\\n', cleaned_text).strip()\n",
        "    text = cleaned_text\n",
        "    text = re.sub(r\"\\s+\", \" \", text)\n",
        "    text = re.sub(r\"(</?[A-Z ]+>)\", r\"\\n\\1\\n\", text)\n",
        "    text = re.sub(r\"_+\", \"\", text)\n",
        "    text = re.sub(r\"\\d{1,2}:\\d{2}\\s*(?:AM|PM)?\", \"\", text, flags=re.IGNORECASE)\n",
        "    text = re.sub(r\"[\\.\\:]\\s*___\", \"\", text)\n",
        "    text = re.sub(r\"(</?[A-Z ]+>)\", lambda m: m.group(1).upper(), text)\n",
        "    text = re.sub(r\"\\s+([,:;])\", r\"\\1\", text)\n",
        "    text = re.sub(r\"([,:;])\\s+\", r\"\\1 \", text)\n",
        "    text = re.sub(r\"\\s{2,}\", \" \", text)\n",
        "    text = re.sub(r\"\\n{2,}\", \"\\n\", text)\n",
        "\n",
        "    # Tokenize and lemmatize\n",
        "    doc = nlp(text.strip())\n",
        "    tokens = [\n",
        "        token.lemma_.lower().strip()\n",
        "        for token in doc\n",
        "        if (token.text.lower() in keep_words) or (not token.is_stop and token.text not in punctuations)\n",
        "    ]\n",
        "    return tokens\n",
        "\n",
        "\n",
        "# ========== Step 4: Apply to DataFrame ==========\n",
        "# Assuming your DataFrame is named df and contains 'target' and 'augmented_input'\n",
        "df[\"target_tokens\"] = df[\"target\"].progress_apply(clean_ehr_text)\n",
        "df[\"augmented_input_tokens\"] = df[\"augmented_input\"].progress_apply(clean_ehr_text)\n",
        "df = df[[\"target_tokens\", \"augmented_input_tokens\"]]"
      ],
      "metadata": {
        "trusted": true,
        "execution": {
          "iopub.status.busy": "2025-06-11T23:45:13.805759Z",
          "iopub.execute_input": "2025-06-11T23:45:13.806644Z",
          "execution_failed": "2025-06-12T03:02:07.841Z"
        },
        "id": "-yoUqmAtGOby",
        "outputId": "377bcab6-209b-4c8c-86e6-89ee810448aa"
      },
      "outputs": [
        {
          "name": "stderr",
          "text": " 50%|████▉     | 134194/270033 [1:29:44<1:31:16, 24.80it/s]",
          "output_type": "stream"
        }
      ],
      "execution_count": null
    },
    {
      "cell_type": "code",
      "source": [],
      "metadata": {
        "trusted": true,
        "id": "G91P7mRLGOby"
      },
      "outputs": [],
      "execution_count": null
    }
  ]
}