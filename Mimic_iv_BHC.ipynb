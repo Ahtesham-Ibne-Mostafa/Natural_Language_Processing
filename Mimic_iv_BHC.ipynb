{
 "cells": [
  {
   "cell_type": "markdown",
   "metadata": {
    "colab_type": "text",
    "id": "view-in-github"
   },
   "source": [
    "<a href=\"https://colab.research.google.com/github/Ahtesham-Ibne-Mostafa/Natural_Language_Processing/blob/main/Mimic_iv_BHC.ipynb\" target=\"_parent\"><img src=\"https://colab.research.google.com/assets/colab-badge.svg\" alt=\"Open In Colab\"/></a>"
   ]
  },
  {
   "cell_type": "code",
   "execution_count": 2,
   "metadata": {
    "id": "rbp43HoNQAKK"
   },
   "outputs": [],
   "source": [
    "import numpy as np\n",
    "import pandas as pd\n",
    "import re"
   ]
  },
  {
   "cell_type": "code",
   "execution_count": 3,
   "metadata": {
    "id": "zRdF8wcpQNlO"
   },
   "outputs": [],
   "source": [
    "discharge = pd.read_csv(r\"D:\\Datasets\\mimic-iv-ext-bhc-labeled-clinical-notes-dataset-for-hospital-course-summarization-1.1.0\\discharge.csv\")\n"
   ]
  },
  {
   "cell_type": "code",
   "execution_count": 4,
   "metadata": {
    "id": "FRV4R-_JQy3G"
   },
   "outputs": [],
   "source": [
    "patients= pd.read_csv(r\"D:\\Datasets\\mimic-iv-ext-bhc-labeled-clinical-notes-dataset-for-hospital-course-summarization-1.1.0\\patients.csv\")"
   ]
  },
  {
   "cell_type": "code",
   "execution_count": 5,
   "metadata": {
    "id": "Ejz1ViTqRFxJ"
   },
   "outputs": [],
   "source": [
    "bhc=pd.read_csv(r\"D:\\Datasets\\mimic-iv-ext-bhc-labeled-clinical-notes-dataset-for-hospital-course-summarization-1.1.0\\mimic-iv-bhc.csv\")"
   ]
  },
  {
   "cell_type": "code",
   "execution_count": 6,
   "metadata": {
    "colab": {
     "base_uri": "https://localhost:8080/",
     "height": 424
    },
    "id": "fOSVoyLuRlyO",
    "outputId": "a3b228b2-b440-4661-a01d-76b337bfdf87"
   },
   "outputs": [
    {
     "data": {
      "text/html": [
       "<div>\n",
       "<style scoped>\n",
       "    .dataframe tbody tr th:only-of-type {\n",
       "        vertical-align: middle;\n",
       "    }\n",
       "\n",
       "    .dataframe tbody tr th {\n",
       "        vertical-align: top;\n",
       "    }\n",
       "\n",
       "    .dataframe thead th {\n",
       "        text-align: right;\n",
       "    }\n",
       "</style>\n",
       "<table border=\"1\" class=\"dataframe\">\n",
       "  <thead>\n",
       "    <tr style=\"text-align: right;\">\n",
       "      <th></th>\n",
       "      <th>note_id</th>\n",
       "      <th>subject_id</th>\n",
       "      <th>hadm_id</th>\n",
       "      <th>note_type</th>\n",
       "      <th>note_seq</th>\n",
       "      <th>charttime</th>\n",
       "      <th>storetime</th>\n",
       "      <th>text</th>\n",
       "    </tr>\n",
       "  </thead>\n",
       "  <tbody>\n",
       "    <tr>\n",
       "      <th>0</th>\n",
       "      <td>10000032-DS-21</td>\n",
       "      <td>10000032</td>\n",
       "      <td>22595853</td>\n",
       "      <td>DS</td>\n",
       "      <td>21</td>\n",
       "      <td>2180-05-07 00:00:00</td>\n",
       "      <td>2180-05-09 15:26:00</td>\n",
       "      <td>\\nName:  ___                     Unit No:   _...</td>\n",
       "    </tr>\n",
       "    <tr>\n",
       "      <th>1</th>\n",
       "      <td>10000032-DS-22</td>\n",
       "      <td>10000032</td>\n",
       "      <td>22841357</td>\n",
       "      <td>DS</td>\n",
       "      <td>22</td>\n",
       "      <td>2180-06-27 00:00:00</td>\n",
       "      <td>2180-07-01 10:15:00</td>\n",
       "      <td>\\nName:  ___                     Unit No:   _...</td>\n",
       "    </tr>\n",
       "    <tr>\n",
       "      <th>2</th>\n",
       "      <td>10000032-DS-23</td>\n",
       "      <td>10000032</td>\n",
       "      <td>29079034</td>\n",
       "      <td>DS</td>\n",
       "      <td>23</td>\n",
       "      <td>2180-07-25 00:00:00</td>\n",
       "      <td>2180-07-25 21:42:00</td>\n",
       "      <td>\\nName:  ___                     Unit No:   _...</td>\n",
       "    </tr>\n",
       "    <tr>\n",
       "      <th>3</th>\n",
       "      <td>10000032-DS-24</td>\n",
       "      <td>10000032</td>\n",
       "      <td>25742920</td>\n",
       "      <td>DS</td>\n",
       "      <td>24</td>\n",
       "      <td>2180-08-07 00:00:00</td>\n",
       "      <td>2180-08-10 05:43:00</td>\n",
       "      <td>\\nName:  ___                     Unit No:   _...</td>\n",
       "    </tr>\n",
       "    <tr>\n",
       "      <th>4</th>\n",
       "      <td>10000084-DS-17</td>\n",
       "      <td>10000084</td>\n",
       "      <td>23052089</td>\n",
       "      <td>DS</td>\n",
       "      <td>17</td>\n",
       "      <td>2160-11-25 00:00:00</td>\n",
       "      <td>2160-11-25 15:09:00</td>\n",
       "      <td>\\nName:  ___                    Unit No:   __...</td>\n",
       "    </tr>\n",
       "    <tr>\n",
       "      <th>...</th>\n",
       "      <td>...</td>\n",
       "      <td>...</td>\n",
       "      <td>...</td>\n",
       "      <td>...</td>\n",
       "      <td>...</td>\n",
       "      <td>...</td>\n",
       "      <td>...</td>\n",
       "      <td>...</td>\n",
       "    </tr>\n",
       "    <tr>\n",
       "      <th>331788</th>\n",
       "      <td>19999828-DS-6</td>\n",
       "      <td>19999828</td>\n",
       "      <td>29734428</td>\n",
       "      <td>DS</td>\n",
       "      <td>6</td>\n",
       "      <td>2147-08-04 00:00:00</td>\n",
       "      <td>2147-08-12 15:36:00</td>\n",
       "      <td>\\nName:  ___                   Unit No:   ___...</td>\n",
       "    </tr>\n",
       "    <tr>\n",
       "      <th>331789</th>\n",
       "      <td>19999828-DS-7</td>\n",
       "      <td>19999828</td>\n",
       "      <td>25744818</td>\n",
       "      <td>DS</td>\n",
       "      <td>7</td>\n",
       "      <td>2149-01-18 00:00:00</td>\n",
       "      <td>2149-01-19 07:03:00</td>\n",
       "      <td>\\nName:  ___                   Unit No:   ___...</td>\n",
       "    </tr>\n",
       "    <tr>\n",
       "      <th>331790</th>\n",
       "      <td>19999840-DS-20</td>\n",
       "      <td>19999840</td>\n",
       "      <td>26071774</td>\n",
       "      <td>DS</td>\n",
       "      <td>20</td>\n",
       "      <td>2164-07-28 00:00:00</td>\n",
       "      <td>2164-07-29 14:52:00</td>\n",
       "      <td>\\nName:  ___                  Unit No:   ___\\...</td>\n",
       "    </tr>\n",
       "    <tr>\n",
       "      <th>331791</th>\n",
       "      <td>19999840-DS-21</td>\n",
       "      <td>19999840</td>\n",
       "      <td>21033226</td>\n",
       "      <td>DS</td>\n",
       "      <td>21</td>\n",
       "      <td>2164-09-17 00:00:00</td>\n",
       "      <td>2164-09-18 01:36:00</td>\n",
       "      <td>\\nName:  ___                  Unit No:   ___\\...</td>\n",
       "    </tr>\n",
       "    <tr>\n",
       "      <th>331792</th>\n",
       "      <td>19999987-DS-2</td>\n",
       "      <td>19999987</td>\n",
       "      <td>23865745</td>\n",
       "      <td>DS</td>\n",
       "      <td>2</td>\n",
       "      <td>2145-11-11 00:00:00</td>\n",
       "      <td>2145-11-11 13:13:00</td>\n",
       "      <td>\\nName:  ___                    Unit No:   __...</td>\n",
       "    </tr>\n",
       "  </tbody>\n",
       "</table>\n",
       "<p>331793 rows × 8 columns</p>\n",
       "</div>"
      ],
      "text/plain": [
       "               note_id  subject_id   hadm_id note_type  note_seq  \\\n",
       "0       10000032-DS-21    10000032  22595853        DS        21   \n",
       "1       10000032-DS-22    10000032  22841357        DS        22   \n",
       "2       10000032-DS-23    10000032  29079034        DS        23   \n",
       "3       10000032-DS-24    10000032  25742920        DS        24   \n",
       "4       10000084-DS-17    10000084  23052089        DS        17   \n",
       "...                ...         ...       ...       ...       ...   \n",
       "331788   19999828-DS-6    19999828  29734428        DS         6   \n",
       "331789   19999828-DS-7    19999828  25744818        DS         7   \n",
       "331790  19999840-DS-20    19999840  26071774        DS        20   \n",
       "331791  19999840-DS-21    19999840  21033226        DS        21   \n",
       "331792   19999987-DS-2    19999987  23865745        DS         2   \n",
       "\n",
       "                  charttime            storetime  \\\n",
       "0       2180-05-07 00:00:00  2180-05-09 15:26:00   \n",
       "1       2180-06-27 00:00:00  2180-07-01 10:15:00   \n",
       "2       2180-07-25 00:00:00  2180-07-25 21:42:00   \n",
       "3       2180-08-07 00:00:00  2180-08-10 05:43:00   \n",
       "4       2160-11-25 00:00:00  2160-11-25 15:09:00   \n",
       "...                     ...                  ...   \n",
       "331788  2147-08-04 00:00:00  2147-08-12 15:36:00   \n",
       "331789  2149-01-18 00:00:00  2149-01-19 07:03:00   \n",
       "331790  2164-07-28 00:00:00  2164-07-29 14:52:00   \n",
       "331791  2164-09-17 00:00:00  2164-09-18 01:36:00   \n",
       "331792  2145-11-11 00:00:00  2145-11-11 13:13:00   \n",
       "\n",
       "                                                     text  \n",
       "0        \\nName:  ___                     Unit No:   _...  \n",
       "1        \\nName:  ___                     Unit No:   _...  \n",
       "2        \\nName:  ___                     Unit No:   _...  \n",
       "3        \\nName:  ___                     Unit No:   _...  \n",
       "4        \\nName:  ___                    Unit No:   __...  \n",
       "...                                                   ...  \n",
       "331788   \\nName:  ___                   Unit No:   ___...  \n",
       "331789   \\nName:  ___                   Unit No:   ___...  \n",
       "331790   \\nName:  ___                  Unit No:   ___\\...  \n",
       "331791   \\nName:  ___                  Unit No:   ___\\...  \n",
       "331792   \\nName:  ___                    Unit No:   __...  \n",
       "\n",
       "[331793 rows x 8 columns]"
      ]
     },
     "execution_count": 6,
     "metadata": {},
     "output_type": "execute_result"
    }
   ],
   "source": [
    "discharge"
   ]
  },
  {
   "cell_type": "code",
   "execution_count": 7,
   "metadata": {
    "colab": {
     "base_uri": "https://localhost:8080/",
     "height": 424
    },
    "id": "0T8x4kyxSP_a",
    "outputId": "3222a55c-18b4-48d6-bf8c-4320ffb7ad52"
   },
   "outputs": [
    {
     "data": {
      "text/html": [
       "<div>\n",
       "<style scoped>\n",
       "    .dataframe tbody tr th:only-of-type {\n",
       "        vertical-align: middle;\n",
       "    }\n",
       "\n",
       "    .dataframe tbody tr th {\n",
       "        vertical-align: top;\n",
       "    }\n",
       "\n",
       "    .dataframe thead th {\n",
       "        text-align: right;\n",
       "    }\n",
       "</style>\n",
       "<table border=\"1\" class=\"dataframe\">\n",
       "  <thead>\n",
       "    <tr style=\"text-align: right;\">\n",
       "      <th></th>\n",
       "      <th>subject_id</th>\n",
       "      <th>gender</th>\n",
       "      <th>anchor_age</th>\n",
       "      <th>anchor_year</th>\n",
       "      <th>anchor_year_group</th>\n",
       "      <th>dod</th>\n",
       "    </tr>\n",
       "  </thead>\n",
       "  <tbody>\n",
       "    <tr>\n",
       "      <th>0</th>\n",
       "      <td>10000032</td>\n",
       "      <td>F</td>\n",
       "      <td>52</td>\n",
       "      <td>2180</td>\n",
       "      <td>2014 - 2016</td>\n",
       "      <td>2180-09-09</td>\n",
       "    </tr>\n",
       "    <tr>\n",
       "      <th>1</th>\n",
       "      <td>10000048</td>\n",
       "      <td>F</td>\n",
       "      <td>23</td>\n",
       "      <td>2126</td>\n",
       "      <td>2008 - 2010</td>\n",
       "      <td>NaN</td>\n",
       "    </tr>\n",
       "    <tr>\n",
       "      <th>2</th>\n",
       "      <td>10000068</td>\n",
       "      <td>F</td>\n",
       "      <td>19</td>\n",
       "      <td>2160</td>\n",
       "      <td>2008 - 2010</td>\n",
       "      <td>NaN</td>\n",
       "    </tr>\n",
       "    <tr>\n",
       "      <th>3</th>\n",
       "      <td>10000084</td>\n",
       "      <td>M</td>\n",
       "      <td>72</td>\n",
       "      <td>2160</td>\n",
       "      <td>2017 - 2019</td>\n",
       "      <td>2161-02-13</td>\n",
       "    </tr>\n",
       "    <tr>\n",
       "      <th>4</th>\n",
       "      <td>10000102</td>\n",
       "      <td>F</td>\n",
       "      <td>27</td>\n",
       "      <td>2136</td>\n",
       "      <td>2008 - 2010</td>\n",
       "      <td>NaN</td>\n",
       "    </tr>\n",
       "    <tr>\n",
       "      <th>...</th>\n",
       "      <td>...</td>\n",
       "      <td>...</td>\n",
       "      <td>...</td>\n",
       "      <td>...</td>\n",
       "      <td>...</td>\n",
       "      <td>...</td>\n",
       "    </tr>\n",
       "    <tr>\n",
       "      <th>299707</th>\n",
       "      <td>19999828</td>\n",
       "      <td>F</td>\n",
       "      <td>46</td>\n",
       "      <td>2147</td>\n",
       "      <td>2017 - 2019</td>\n",
       "      <td>NaN</td>\n",
       "    </tr>\n",
       "    <tr>\n",
       "      <th>299708</th>\n",
       "      <td>19999829</td>\n",
       "      <td>F</td>\n",
       "      <td>28</td>\n",
       "      <td>2186</td>\n",
       "      <td>2008 - 2010</td>\n",
       "      <td>NaN</td>\n",
       "    </tr>\n",
       "    <tr>\n",
       "      <th>299709</th>\n",
       "      <td>19999840</td>\n",
       "      <td>M</td>\n",
       "      <td>58</td>\n",
       "      <td>2164</td>\n",
       "      <td>2008 - 2010</td>\n",
       "      <td>2164-09-17</td>\n",
       "    </tr>\n",
       "    <tr>\n",
       "      <th>299710</th>\n",
       "      <td>19999914</td>\n",
       "      <td>F</td>\n",
       "      <td>49</td>\n",
       "      <td>2158</td>\n",
       "      <td>2017 - 2019</td>\n",
       "      <td>NaN</td>\n",
       "    </tr>\n",
       "    <tr>\n",
       "      <th>299711</th>\n",
       "      <td>19999987</td>\n",
       "      <td>F</td>\n",
       "      <td>57</td>\n",
       "      <td>2145</td>\n",
       "      <td>2011 - 2013</td>\n",
       "      <td>NaN</td>\n",
       "    </tr>\n",
       "  </tbody>\n",
       "</table>\n",
       "<p>299712 rows × 6 columns</p>\n",
       "</div>"
      ],
      "text/plain": [
       "        subject_id gender  anchor_age  anchor_year anchor_year_group  \\\n",
       "0         10000032      F          52         2180       2014 - 2016   \n",
       "1         10000048      F          23         2126       2008 - 2010   \n",
       "2         10000068      F          19         2160       2008 - 2010   \n",
       "3         10000084      M          72         2160       2017 - 2019   \n",
       "4         10000102      F          27         2136       2008 - 2010   \n",
       "...            ...    ...         ...          ...               ...   \n",
       "299707    19999828      F          46         2147       2017 - 2019   \n",
       "299708    19999829      F          28         2186       2008 - 2010   \n",
       "299709    19999840      M          58         2164       2008 - 2010   \n",
       "299710    19999914      F          49         2158       2017 - 2019   \n",
       "299711    19999987      F          57         2145       2011 - 2013   \n",
       "\n",
       "               dod  \n",
       "0       2180-09-09  \n",
       "1              NaN  \n",
       "2              NaN  \n",
       "3       2161-02-13  \n",
       "4              NaN  \n",
       "...            ...  \n",
       "299707         NaN  \n",
       "299708         NaN  \n",
       "299709  2164-09-17  \n",
       "299710         NaN  \n",
       "299711         NaN  \n",
       "\n",
       "[299712 rows x 6 columns]"
      ]
     },
     "execution_count": 7,
     "metadata": {},
     "output_type": "execute_result"
    }
   ],
   "source": [
    "patients"
   ]
  },
  {
   "cell_type": "code",
   "execution_count": 8,
   "metadata": {
    "colab": {
     "base_uri": "https://localhost:8080/",
     "height": 272
    },
    "id": "dGKqc1lcSwUk",
    "outputId": "2f9bb237-369c-4676-a2c0-57643293984d"
   },
   "outputs": [
    {
     "data": {
      "text/plain": [
       "subject_id                0\n",
       "gender                    0\n",
       "anchor_age                0\n",
       "anchor_year               0\n",
       "anchor_year_group         0\n",
       "dod                  270636\n",
       "dtype: int64"
      ]
     },
     "execution_count": 8,
     "metadata": {},
     "output_type": "execute_result"
    }
   ],
   "source": [
    "patients.isnull().sum()"
   ]
  },
  {
   "cell_type": "code",
   "execution_count": 9,
   "metadata": {
    "colab": {
     "base_uri": "https://localhost:8080/",
     "height": 424
    },
    "id": "Qp5saworSRa1",
    "outputId": "752b6d0a-2d26-4f37-d335-4357553e8622"
   },
   "outputs": [
    {
     "data": {
      "text/html": [
       "<div>\n",
       "<style scoped>\n",
       "    .dataframe tbody tr th:only-of-type {\n",
       "        vertical-align: middle;\n",
       "    }\n",
       "\n",
       "    .dataframe tbody tr th {\n",
       "        vertical-align: top;\n",
       "    }\n",
       "\n",
       "    .dataframe thead th {\n",
       "        text-align: right;\n",
       "    }\n",
       "</style>\n",
       "<table border=\"1\" class=\"dataframe\">\n",
       "  <thead>\n",
       "    <tr style=\"text-align: right;\">\n",
       "      <th></th>\n",
       "      <th>note_id</th>\n",
       "      <th>input</th>\n",
       "      <th>target</th>\n",
       "      <th>input_tokens</th>\n",
       "      <th>target_tokens</th>\n",
       "    </tr>\n",
       "  </thead>\n",
       "  <tbody>\n",
       "    <tr>\n",
       "      <th>0</th>\n",
       "      <td>10000032-DS-21</td>\n",
       "      <td>&lt;SEX&gt; F &lt;SERVICE&gt; MEDICINE &lt;ALLERGIES&gt; No Know...</td>\n",
       "      <td>___ HCV cirrhosis c/b ascites, hiv on ART, h/o...</td>\n",
       "      <td>1946</td>\n",
       "      <td>231</td>\n",
       "    </tr>\n",
       "    <tr>\n",
       "      <th>1</th>\n",
       "      <td>10000032-DS-22</td>\n",
       "      <td>&lt;SEX&gt; F &lt;SERVICE&gt; MEDICINE &lt;ALLERGIES&gt; Percoce...</td>\n",
       "      <td>___ with HIV on HAART, HCV cirrhosis with asci...</td>\n",
       "      <td>2183</td>\n",
       "      <td>810</td>\n",
       "    </tr>\n",
       "    <tr>\n",
       "      <th>2</th>\n",
       "      <td>10000117-DS-21</td>\n",
       "      <td>&lt;SEX&gt; F &lt;SERVICE&gt; MEDICINE &lt;ALLERGIES&gt; omepraz...</td>\n",
       "      <td>Ms. ___ is a ___ with history of GERD who pres...</td>\n",
       "      <td>1060</td>\n",
       "      <td>172</td>\n",
       "    </tr>\n",
       "    <tr>\n",
       "      <th>3</th>\n",
       "      <td>10000117-DS-22</td>\n",
       "      <td>&lt;SEX&gt; F &lt;SERVICE&gt; ORTHOPAEDICS &lt;ALLERGIES&gt; ome...</td>\n",
       "      <td>The patient presented to the emergency departm...</td>\n",
       "      <td>1195</td>\n",
       "      <td>330</td>\n",
       "    </tr>\n",
       "    <tr>\n",
       "      <th>4</th>\n",
       "      <td>10000248-DS-10</td>\n",
       "      <td>&lt;SEX&gt; M &lt;SERVICE&gt; MEDICINE &lt;ALLERGIES&gt; No Know...</td>\n",
       "      <td>Mr. ___ is a ___ with history of mild FVIII de...</td>\n",
       "      <td>1961</td>\n",
       "      <td>230</td>\n",
       "    </tr>\n",
       "    <tr>\n",
       "      <th>...</th>\n",
       "      <td>...</td>\n",
       "      <td>...</td>\n",
       "      <td>...</td>\n",
       "      <td>...</td>\n",
       "      <td>...</td>\n",
       "    </tr>\n",
       "    <tr>\n",
       "      <th>270028</th>\n",
       "      <td>19999784-DS-9</td>\n",
       "      <td>&lt;SEX&gt; M &lt;SERVICE&gt; NEUROSURGERY &lt;ALLERGIES&gt; No ...</td>\n",
       "      <td>Mr. ___ is a ___ without significant medical h...</td>\n",
       "      <td>1434</td>\n",
       "      <td>1133</td>\n",
       "    </tr>\n",
       "    <tr>\n",
       "      <th>270029</th>\n",
       "      <td>19999828-DS-6</td>\n",
       "      <td>&lt;SEX&gt; F &lt;SERVICE&gt; SURGERY &lt;ALLERGIES&gt; Lamictal...</td>\n",
       "      <td>Ms. ___ is a ___ year old female with a histor...</td>\n",
       "      <td>2517</td>\n",
       "      <td>442</td>\n",
       "    </tr>\n",
       "    <tr>\n",
       "      <th>270030</th>\n",
       "      <td>19999840-DS-20</td>\n",
       "      <td>&lt;SEX&gt; M &lt;SERVICE&gt; NEUROLOGY &lt;ALLERGIES&gt; Patien...</td>\n",
       "      <td>___ year old man hx of epilepsy and left tempo...</td>\n",
       "      <td>2775</td>\n",
       "      <td>233</td>\n",
       "    </tr>\n",
       "    <tr>\n",
       "      <th>270031</th>\n",
       "      <td>19999840-DS-21</td>\n",
       "      <td>&lt;SEX&gt; M &lt;SERVICE&gt; MEDICINE &lt;ALLERGIES&gt; Patient...</td>\n",
       "      <td>Mr. ___ was admitted with status epilepticus. ...</td>\n",
       "      <td>1761</td>\n",
       "      <td>531</td>\n",
       "    </tr>\n",
       "    <tr>\n",
       "      <th>270032</th>\n",
       "      <td>19999987-DS-2</td>\n",
       "      <td>&lt;SEX&gt; F &lt;SERVICE&gt; NEUROLOGY &lt;ALLERGIES&gt; No Kno...</td>\n",
       "      <td>This is a ___ year old woman with a history of...</td>\n",
       "      <td>2522</td>\n",
       "      <td>788</td>\n",
       "    </tr>\n",
       "  </tbody>\n",
       "</table>\n",
       "<p>270033 rows × 5 columns</p>\n",
       "</div>"
      ],
      "text/plain": [
       "               note_id                                              input  \\\n",
       "0       10000032-DS-21  <SEX> F <SERVICE> MEDICINE <ALLERGIES> No Know...   \n",
       "1       10000032-DS-22  <SEX> F <SERVICE> MEDICINE <ALLERGIES> Percoce...   \n",
       "2       10000117-DS-21  <SEX> F <SERVICE> MEDICINE <ALLERGIES> omepraz...   \n",
       "3       10000117-DS-22  <SEX> F <SERVICE> ORTHOPAEDICS <ALLERGIES> ome...   \n",
       "4       10000248-DS-10  <SEX> M <SERVICE> MEDICINE <ALLERGIES> No Know...   \n",
       "...                ...                                                ...   \n",
       "270028   19999784-DS-9  <SEX> M <SERVICE> NEUROSURGERY <ALLERGIES> No ...   \n",
       "270029   19999828-DS-6  <SEX> F <SERVICE> SURGERY <ALLERGIES> Lamictal...   \n",
       "270030  19999840-DS-20  <SEX> M <SERVICE> NEUROLOGY <ALLERGIES> Patien...   \n",
       "270031  19999840-DS-21  <SEX> M <SERVICE> MEDICINE <ALLERGIES> Patient...   \n",
       "270032   19999987-DS-2  <SEX> F <SERVICE> NEUROLOGY <ALLERGIES> No Kno...   \n",
       "\n",
       "                                                   target  input_tokens  \\\n",
       "0       ___ HCV cirrhosis c/b ascites, hiv on ART, h/o...          1946   \n",
       "1       ___ with HIV on HAART, HCV cirrhosis with asci...          2183   \n",
       "2       Ms. ___ is a ___ with history of GERD who pres...          1060   \n",
       "3       The patient presented to the emergency departm...          1195   \n",
       "4       Mr. ___ is a ___ with history of mild FVIII de...          1961   \n",
       "...                                                   ...           ...   \n",
       "270028  Mr. ___ is a ___ without significant medical h...          1434   \n",
       "270029  Ms. ___ is a ___ year old female with a histor...          2517   \n",
       "270030  ___ year old man hx of epilepsy and left tempo...          2775   \n",
       "270031  Mr. ___ was admitted with status epilepticus. ...          1761   \n",
       "270032  This is a ___ year old woman with a history of...          2522   \n",
       "\n",
       "        target_tokens  \n",
       "0                 231  \n",
       "1                 810  \n",
       "2                 172  \n",
       "3                 330  \n",
       "4                 230  \n",
       "...               ...  \n",
       "270028           1133  \n",
       "270029            442  \n",
       "270030            233  \n",
       "270031            531  \n",
       "270032            788  \n",
       "\n",
       "[270033 rows x 5 columns]"
      ]
     },
     "execution_count": 9,
     "metadata": {},
     "output_type": "execute_result"
    }
   ],
   "source": [
    "bhc"
   ]
  },
  {
   "cell_type": "code",
   "execution_count": 27,
   "metadata": {},
   "outputs": [
    {
     "name": "stdout",
     "output_type": "stream",
     "text": [
      "20\n",
      "['<SEX>', '<SERVICE>', '<ALLERGIES>', '<ATTENDING>', '<CHIEF COMPLAINT>', '<MAJOR SURGICAL OR INVASIVE PROCEDURE>', '<HISTORY OF PRESENT ILLNESS>', '', '<PAST MEDICAL HISTORY>', '<SOCIAL HISTORY>', '<FAMILY HISTORY>', '<PHYSICAL EXAM>', '<PERTINENT RESULTS>', '<1 WBC-1 Bacteri-FEW Yeast-NONE Epi-0 ___ 07: 50PM URINE Mucous-RARE IMAGING/STUDIES: ___ CT A/P Acute hemorrhage along right posterior flank musculature and probably layering over it, only partly imaged and hard to distinguish musculature from hemorrhage. No active extravasation seen. Probable old hematoma along posterior left flank. <MEDICATIONS ON ADMISSION>', '<DISCHARGE MEDICATIONS>', '<DISCHARGE DISPOSITION>', '<DISCHARGE DIAGNOSIS>', '<DISCHARGE CONDITION>', '<FOLLOWUP INSTRUCTIONS>', '<DISCHARGE INSTRUCTIONS>']\n"
     ]
    }
   ],
   "source": [
    "input_text=bhc['input'][4]\n",
    "features=[]\n",
    "a=''\n",
    "flag=False\n",
    "for i in input_text:\n",
    "    if i == '<':\n",
    "        flag=True\n",
    "    if flag== True:\n",
    "        a+=i\n",
    "    if i == '>':\n",
    "        features.append(a)\n",
    "        a=''\n",
    "        flag=False\n",
    "print(len(features))\n",
    "print(features)"
   ]
  },
  {
   "cell_type": "code",
   "execution_count": 19,
   "metadata": {},
   "outputs": [
    {
     "name": "stdout",
     "output_type": "stream",
     "text": [
      "19\n"
     ]
    }
   ],
   "source": [
    "input_text=bhc['input'][0]\n",
    "# Find all values between <>\n",
    "matches = re.findall(r'<(.*?)>', input_text)\n",
    "\n",
    "# Print the results\n",
    "print(len(matches))"
   ]
  },
  {
   "cell_type": "code",
   "execution_count": 26,
   "metadata": {},
   "outputs": [
    {
     "name": "stdout",
     "output_type": "stream",
     "text": [
      "['SEX', 'SERVICE', 'ALLERGIES', 'ATTENDING', 'CHIEF COMPLAINT', 'MAJOR SURGICAL OR INVASIVE PROCEDURE', 'HISTORY OF PRESENT ILLNESS', 'PAST MEDICAL HISTORY', 'SOCIAL HISTORY', 'FAMILY HISTORY', 'PHYSICAL EXAM', 'PERTINENT RESULTS', '1 per 1000X FIELD): POLYMORPHONUCLEAR LEUKOCYTES. NO MICROORGANISMS SEEN. This is a concentrated smear made by cytospin method, please refer to hematology for a quantitative white blood cell count.. FLUID CULTURE (Final ___: NO GROWTH. ANAEROBIC CULTURE (Preliminary): NO GROWTH. ___ 7: 00 pm PERITONEAL FLUID PERITONEAL FLUID. GRAM STAIN (Final ___: 1+ (<1 per 1000X FIELD): POLYMORPHONUCLEAR LEUKOCYTES. NO MICROORGANISMS SEEN. This is a concentrated smear made by cytospin method, please refer to hematology for a quantitative white blood cell count.. FLUID CULTURE (Final ___: NO GROWTH. ANAEROBIC CULTURE (Preliminary): NO GROWTH. Diagnositc Para: ___ 07: 00PM ASCITES ___ ___ ___ 07: 00PM ASCITES ___ IMAGING: ___ CXR- No acute cardiopulmonary abnormality. ___ RUQ US- 1. Extremely coarse and nodular liver echotexture consistent with a history of cirrhosis. 2. Moderate ascites. 3. Patent portal vein. <MEDICATIONS ON ADMISSION', 'DISCHARGE MEDICATIONS', 'DISCHARGE DISPOSITION', 'DISCHARGE DIAGNOSIS', 'DISCHARGE CONDITION', 'FOLLOWUP INSTRUCTIONS', 'DISCHARGE INSTRUCTIONS']\n"
     ]
    }
   ],
   "source": [
    "input_text=bhc['input'][1]\n",
    "# Find all values between <>\n",
    "matches = re.findall(r'<(.*?)>', input_text)\n",
    "\n",
    "# Print the results\n",
    "print(matches)"
   ]
  },
  {
   "cell_type": "code",
   "execution_count": 27,
   "metadata": {},
   "outputs": [
    {
     "data": {
      "text/plain": [
       "'<SEX> F <SERVICE> MEDICINE <ALLERGIES> No Known Allergies / Adverse Drug Reactions <ATTENDING> ___ <CHIEF COMPLAINT> Worsening ABD distension and pain <MAJOR SURGICAL OR INVASIVE PROCEDURE> Paracentesis <HISTORY OF PRESENT ILLNESS> ___ HCV cirrhosis c/b ascites, hiv on ART, h/o IVDU, COPD, bioplar, PTSD, presented from OSH ED with worsening abd distension over past week. Pt reports self-discontinuing lasix and spirnolactone ___ weeks ago, because she feels like \"they don\\'t do anything\" and that she \"doesn\\'t want to put more chemicals in her.\" She does not follow Na-restricted diets. In the past week, she notes that she has been having worsening abd distension and discomfort. She denies ___ edema, or SOB, or orthopnea. She denies f/c/n/v, d/c, dysuria. She had food poisoning a week ago from eating stale cake (n/v 20 min after food ingestion), which resolved the same day. She denies other recent illness or sick contacts. She notes that she has been noticing gum bleeding while brushing her teeth in recent weeks. she denies easy bruising, melena, BRBPR, hemetesis, hemoptysis, or hematuria. Because of her abd pain, she went to OSH ED and was transferred to ___ for further care. Per ED report, pt has brief period of confusion - she did not recall the ultrasound or bloodwork at osh. She denies recent drug use or alcohol use. She denies feeling confused, but reports that she is forgetful at times. In the ED, initial vitals were 98.4 70 106/63 16 97%RA Labs notable for ALT/AST/AP ___ ___: ___, Tbili1.6, WBC 5K, platelet 77, INR 1.6 <PAST MEDICAL HISTORY> 1. HCV Cirrhosis 2. No history of abnormal Pap smears. 3. She had calcification in her breast, which was removed previously and per patient not, it was benign. 4. For HIV disease, she is being followed by Dr. ___ Dr. ___. 5. COPD 6. Past history of smoking. 7. She also had a skin lesion, which was biopsied and showed skin cancer per patient report and is scheduled for a complete removal of the skin lesion in ___ of this year. 8. She also had another lesion in her forehead with purple discoloration. It was biopsied to exclude the possibility of ___\\'s sarcoma, the results is pending. 9. A 15 mm hypoechoic lesion on her ultrasound on ___ and is being monitored by an MRI. 10. History of dysplasia of anus in ___. 11. Bipolar affective disorder, currently manic, mild, and PTSD. 12. History of cocaine and heroin use. <SOCIAL HISTORY> ___ <FAMILY HISTORY> She a total of five siblings, but she is not talking to most of them. She only has one brother that she is in touch with and lives in ___. She is not aware of any known GI or liver disease in her family. Her last alcohol consumption was one drink two months ago. No regular alcohol consumption. Last drug use ___ years ago. She quit smoking a couple of years ago. <PHYSICAL EXAM> VS: 98.1 107/61 78 18 97RA General: in NAD HEENT: CTAB, anicteric sclera, OP clear Neck: supple, no LAD CV: RRR,S1S2, no m/r/g Lungs: CTAb, prolonged expiratory phase, no w/r/r Abdomen: distended, mild diffuse tenderness, +flank dullness, cannot percuss liver/spleen edge ___ distension GU: no foley Ext: wwp, no c/e/e, + clubbing Neuro: AAO3, converse normally, able to recall 3 times after 5 minutes, CN II-XII intact Discharge: PHYSICAL EXAMINATION: VS: 98 105/70 95 General: in NAD HEENT: anicteric sclera, OP clear Neck: supple, no LAD CV: RRR,S1S2, no m/r/g Lungs: CTAb, prolonged expiratory phase, no w/r/r Abdomen: distended but improved, TTP in RUQ, GU: no foley Ext: wwp, no c/e/e, + clubbing Neuro: AAO3, CN II-XII intact <PERTINENT RESULTS> ___ 10: 25PM GLUCOSE-109* UREA N-25* CREAT-0.3* SODIUM-138 POTASSIUM-3.4 CHLORIDE-105 TOTAL CO2-27 ANION GAP-9 ___ 10: 25PM estGFR-Using this ___ 10: 25PM ALT(SGPT)-100* AST(SGOT)-114* ALK PHOS-114* TOT BILI-1.6* ___ 10: 25PM LIPASE-77* ___ 10: 25PM ALBUMIN-3.3* ___ 10: 25PM WBC-5.0# RBC-4.29 HGB-14.3 HCT-42.6 MCV-99* MCH-33.3* MCHC-33.5 RDW-15.7* ___ 10: 25PM NEUTS-70.3* LYMPHS-16.5* MONOS-8.1 EOS-4.2* BASOS-0.8 ___ 10: 25PM PLT COUNT-71* ___ 10: 25PM ___ PTT-30.9 ___ ___ 10: 25PM ___ . CXR: No acute cardiopulmonary process. U/S: 1. Nodular appearance of the liver compatible with cirrhosis. Signs of portal hypertension including small amount of ascites and splenomegaly. 2. Cholelithiasis. 3. Patent portal veins with normal hepatopetal flow. Diagnostic para attempted in the ED, unsuccessful. On the floor, pt c/o abd distension and discomfort. <MEDICATIONS ON ADMISSION> The Preadmission Medication list is accurate and complete. 1. Furosemide 20 mg PO DAILY 2. Spironolactone 50 mg PO DAILY 3. Albuterol Inhaler 2 PUFF IH Q4H: PRN wheezing, SOB 4. Raltegravir 400 mg PO BID 5. Emtricitabine-Tenofovir (Truvada) 1 TAB PO DAILY 6. Nicotine Patch 14 mg TD DAILY 7. Ipratropium Bromide Neb 1 NEB IH Q6H SOB <DISCHARGE MEDICATIONS> 1. Albuterol Inhaler 2 PUFF IH Q4H: PRN wheezing, SOB 2. Emtricitabine-Tenofovir (Truvada) 1 TAB PO DAILY 3. Furosemide 40 mg PO DAILY RX *furosemide 40 mg 1 tablet(s) by mouth Daily Disp #*30 Tablet Refills: *3 4. Ipratropium Bromide Neb 1 NEB IH Q6H SOB 5. Nicotine Patch 14 mg TD DAILY 6. Raltegravir 400 mg PO BID 7. Spironolactone 50 mg PO DAILY 8. Acetaminophen 500 mg PO Q6H: PRN pain <DISCHARGE DISPOSITION> Home <DISCHARGE DIAGNOSIS> Ascites from Portal HTN <DISCHARGE CONDITION> Mental Status: Clear and coherent. Level of Consciousness: Alert and interactive. Activity Status: Ambulatory - Independent. <FOLLOWUP INSTRUCTIONS> ___ <DISCHARGE INSTRUCTIONS> Dear Ms. ___, It was a pleasure taking care of you! You came to us with stomach pain and worsening distension. While you were here we did a paracentesis to remove 1.5L of fluid from your belly. We also placed you on you 40 mg of Lasix and 50 mg of Aldactone to help you urinate the excess fluid still in your belly. As we discussed, everyone has a different dose of lasix required to make them urinate and it\\'s likely that you weren\\'t taking a high enough dose. Please take these medications daily to keep excess fluid off and eat a low salt diet. You will follow up with Dr. ___ in liver clinic and from there have your colonoscopy and EGD scheduled. Of course, we are always here if you need us. We wish you all the best! Your ___ Team. '"
      ]
     },
     "execution_count": 27,
     "metadata": {},
     "output_type": "execute_result"
    }
   ],
   "source": [
    "bhc['input'][0]"
   ]
  },
  {
   "cell_type": "code",
   "execution_count": 28,
   "metadata": {},
   "outputs": [
    {
     "data": {
      "text/plain": [
       "\"<SEX> F <SERVICE> MEDICINE <ALLERGIES> Percocet <ATTENDING> ___. <CHIEF COMPLAINT> abdominal fullness and discomfort <MAJOR SURGICAL OR INVASIVE PROCEDURE> ___ diagnostic paracentesis ___ therapeutic paracentesis <HISTORY OF PRESENT ILLNESS> ___ with HIV on HAART, COPD, HCV cirrhosis complicated by ascites and HE admitted with abdominal distention and pain. She was admitted to ___ for the same symptoms recently and had 3L fluid removed (no SBP) three days ago and felt better. Since discharge, her abdomen has become increasingly distended with pain. This feels similar to prior episodes of ascites. Her diuretics were recently decreased on ___ due to worsening hyponatremia 128 and hyperkalemia 5.1. Patient states she has been compliant with her HIV and diuretic medications but never filled out the lactulose prescription. She states she has had ___ BMs daily at home. She has had some visual hallucinations and forgetfulness. Her appetite has been poor. In the ED, initial vitals were 98.9 88 116/88 18 97% RA. CBC near baseline, INR 1.4, Na 125, Cr 0.6. AST and ALT mildly above baseline 182 and 126 and albumin 2.8. Diagnostic para with 225 WBC, 7% PMN, total protein 0.3. UA with few bact, 6 WBC, mod leuk, neg nitr, but contaminated with 6 epi. CXR clear. RUQ US with no PV thrombus, moderate ascites. She was given ondansetron 4mg IV and morphine 2.5mg IV x1 in the ED. On the floor, she is feeling improved but still has abdominal distention and discomfort. ROS: +Abdominal distention and pain. No black/bloody stools. No ___ pain or swelling. No fevers or chills. Denies chest pain, nausea, vomiting. No dysuria or frequency. <PAST MEDICAL HISTORY> 1. HCV Cirrhosis 2. No history of abnormal Pap smears. 3. She had calcification in her breast, which was removed previously and per patient not, it was benign. 4. For HIV disease, she is being followed by Dr. ___ Dr. ___. 5. COPD 6. Past history of smoking. 7. She also had a skin lesion, which was biopsied and showed skin cancer per patient report and is scheduled for a complete removal of the skin lesion in ___ of this year. 8. She also had another lesion in her forehead with purple discoloration. It was biopsied to exclude the possibility of ___'s sarcoma, the results is pending. 9. A 15 mm hypoechoic lesion on her ultrasound on ___ and is being monitored by an MRI. 10. History of dysplasia of anus in ___. 11. Bipolar affective disorder, currently manic, mild, and PTSD. 12. History of cocaine and heroin use. <SOCIAL HISTORY> ___ <FAMILY HISTORY> She a total of five siblings, but she is not talking to most of them. She only has one brother that she is in touch with and lives in ___. She is not aware of any known GI or liver disease in her family. <PHYSICAL EXAM> ADMISSION PHYSICAL EXAM: VS: T98.1 105/57 79 20 97RA 44.6kg GENERAL: Thin chronically ill appearing woman in no acute distress HEENT: Sclera anicteric, MMM, no oral lesions HEART: RRR, normal S1 S2, no murmurs LUNGS: Clear, no wheezes, rales, or rhonchi ABD: Significant distention with visible veins, bulging flanks, nontender to palpation, tympanitic on percussion, normal bowel sounds EXT: no ___ edema, 2+ DP and ___ pulses NEURO: alert and oriented, not confused, no asterixis DISCHARGE PE: VS: T 98.4 BP 95/55 (SBP ___ HR 80 RR 18 O2 95RA I/O 240/150 this am GENERAL: Thin chronically ill appearing woman in no acute distress HEENT: Sclera anicteric, MMM, no oral lesions HEART: RRR, normal S1 S2, no murmurs LUNGS: Clear, no wheezes, rales, or rhonchi ABD: Significant distention with visible veins, bulging flanks, nontender to palpation, tympanitic on percussion, normal bowel sounds EXT: no ___ edema, 2+ DP and ___ pulses NEURO: alert and oriented, not confused, no asterixis <PERTINENT RESULTS> LABS ON ADMISSION: ___ 04: 10PM BLOOD ___ ___ Plt ___ ___ 04: 10PM BLOOD ___ ___ ___ 04: 10PM BLOOD ___ ___ ___ 04: 10PM BLOOD ___ ___ ___ 04: 10PM BLOOD ___ ___ 04: 39PM BLOOD ___ LABS ON DISCHARGE: ___ 05: 10AM BLOOD ___ ___ Plt ___ ___ 05: 10AM BLOOD ___ ___ ___ 05: 10AM BLOOD ___ ___ ___ 05: 10AM BLOOD ___ ___ ___ 05: 10AM BLOOD ___ MICRO: ___ 10: 39 pm URINE Source: ___. **FINAL REPORT ___ URINE CULTURE (Final ___: MIXED BACTERIAL FLORA ( >= 3 COLONY TYPES), CONSISTENT WITH SKIN AND/OR GENITAL CONTAMINATION. ___ 7: 00 pm PERITONEAL FLUID PERITONEAL FLUID. GRAM STAIN (Final ___: 1+ (<1 per 1000X FIELD): POLYMORPHONUCLEAR LEUKOCYTES. NO MICROORGANISMS SEEN. This is a concentrated smear made by cytospin method, please refer to hematology for a quantitative white blood cell count.. FLUID CULTURE (Final ___: NO GROWTH. ANAEROBIC CULTURE (Preliminary): NO GROWTH. ___ 7: 00 pm PERITONEAL FLUID PERITONEAL FLUID. GRAM STAIN (Final ___: 1+ (<1 per 1000X FIELD): POLYMORPHONUCLEAR LEUKOCYTES. NO MICROORGANISMS SEEN. This is a concentrated smear made by cytospin method, please refer to hematology for a quantitative white blood cell count.. FLUID CULTURE (Final ___: NO GROWTH. ANAEROBIC CULTURE (Preliminary): NO GROWTH. Diagnositc Para: ___ 07: 00PM ASCITES ___ ___ ___ 07: 00PM ASCITES ___ IMAGING: ___ CXR- No acute cardiopulmonary abnormality. ___ RUQ US- 1. Extremely coarse and nodular liver echotexture consistent with a history of cirrhosis. 2. Moderate ascites. 3. Patent portal vein. <MEDICATIONS ON ADMISSION> The Preadmission Medication list is accurate and complete. 1. Albuterol Inhaler 2 PUFF IH Q6H: PRN wheezing, SOB 2. ___ (Truvada) 1 TAB PO DAILY 3. Furosemide 20 mg PO DAILY 4. Raltegravir 400 mg PO BID 5. Spironolactone 50 mg PO DAILY 6. Acetaminophen 500 mg PO Q6H: PRN pain,fever 7. Tiotropium Bromide 1 CAP IH DAILY 8. Rifaximin 550 mg PO BID 9. Calcium Carbonate 1250 mg PO BID 10. Lactulose 15 mL PO TID 11. Sulfameth/Trimethoprim DS 1 TAB PO DAILY <DISCHARGE MEDICATIONS> 1. Acetaminophen 500 mg PO Q6H: PRN pain,fever 2. Albuterol Inhaler 2 PUFF IH Q6H: PRN wheezing, SOB 3. Calcium Carbonate 1250 mg PO BID 4. ___ (Truvada) 1 TAB PO DAILY 5. Furosemide 40 mg PO DAILY 6. Lactulose 15 mL PO TID 7. Raltegravir 400 mg PO BID 8. Rifaximin 550 mg PO BID 9. Sulfameth/Trimethoprim DS 1 TAB PO DAILY 10. Tiotropium Bromide 1 CAP IH DAILY <DISCHARGE DISPOSITION> Home <DISCHARGE DIAGNOSIS> Primary: diuretic refractory ascites Secondary: HCV cirrhosis, HIV, hyponatremia, COPD <DISCHARGE CONDITION> Mental Status: Clear and coherent. Level of Consciousness: Alert and interactive. Activity Status: Ambulatory - Independent. <FOLLOWUP INSTRUCTIONS> ___ <DISCHARGE INSTRUCTIONS> Dear ___, ___ was a pleasure to take care of you at ___ ___. You were admitted with abdominal fullness and pain from your ascites. You had a diagnostic and therapeutic paracentesis with 4.3 L removed. Your spironolactone was discontinued because your potassium was high. Your lasix was increased to 40mg daily. You are scheduled for another paracentesis on ___ prior to your other appointments that day. Please call tomorrow to find out the time of the paracentesis. Please continue to follow a low sodium diet and fluid restriction. You should call your liver doctor or return to the emergency room if you have abdominal pain, fever, chills, confusion, or other concerning symptoms. Sincerely, Your ___ medical team \""
      ]
     },
     "execution_count": 28,
     "metadata": {},
     "output_type": "execute_result"
    }
   ],
   "source": [
    "bhc['input'][1]"
   ]
  },
  {
   "cell_type": "code",
   "execution_count": 21,
   "metadata": {},
   "outputs": [
    {
     "data": {
      "text/plain": [
       "'___ HCV cirrhosis c/b ascites, hiv on ART, h/o IVDU, COPD, bioplar, PTSD, presented from OSH ED with worsening abd distension over past week and confusion. # Ascites - p/w worsening abd distension and discomfort for last week. likely ___ portal HTN given underlying liver disease, though no ascitic fluid available on night of admission. No signs of heart failure noted on exam. This was ___ to med non-compliance and lack of diet restriction. SBP negative diuretics: > Furosemide 40 mg PO DAILY > Spironolactone 50 mg PO DAILY, chosen over the usual 100mg dose d/t K+ of 4.5. CXR was wnl, UA negative, Urine culture blood culture negative. Pt was losing excess fluid appropriately with stable lytes on the above regimen. Pt was scheduled with current PCP for ___ check upon discharge. Pt was scheduled for new PCP with Dr. ___ at ___ and follow up in Liver clinic to schedule outpatient screening EGD and ___. '"
      ]
     },
     "execution_count": 21,
     "metadata": {},
     "output_type": "execute_result"
    }
   ],
   "source": [
    "bhc['target'][0]"
   ]
  },
  {
   "cell_type": "code",
   "execution_count": null,
   "metadata": {},
   "outputs": [],
   "source": []
  }
 ],
 "metadata": {
  "colab": {
   "authorship_tag": "ABX9TyNawv+7l66usyf9oiA/K9F6",
   "include_colab_link": true,
   "mount_file_id": "1u9AuGPb-lyUJldyp0iwF9qAfzffDmzhN",
   "provenance": []
  },
  "kernelspec": {
   "display_name": "base",
   "language": "python",
   "name": "python3"
  },
  "language_info": {
   "codemirror_mode": {
    "name": "ipython",
    "version": 3
   },
   "file_extension": ".py",
   "mimetype": "text/x-python",
   "name": "python",
   "nbconvert_exporter": "python",
   "pygments_lexer": "ipython3",
   "version": "3.12.7"
  }
 },
 "nbformat": 4,
 "nbformat_minor": 4
}
